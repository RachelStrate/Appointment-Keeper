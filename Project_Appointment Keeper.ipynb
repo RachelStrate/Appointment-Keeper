{
 "cells": [
  {
   "cell_type": "markdown",
   "metadata": {},
   "source": [
    "# Project: Investigation of No-Show Appointments in Brazil\n",
    "\n",
    "## Table of Contents\n",
    "<ul>\n",
    "<li><a href=\"#intro\">Introduction</a></li>\n",
    "<li><a href=\"#wrangling\">Data Wrangling</a></li>\n",
    "<li><a href=\"#eda\">Exploratory Data Analysis</a></li>\n",
    "<li><a href=\"#conclusions\">Conclusions</a></li>\n",
    "</ul>"
   ]
  },
  {
   "cell_type": "markdown",
   "metadata": {},
   "source": [
    "<a id='intro'></a>\n",
    "## Introduction\n",
    "This project looks at a dataset of 100k+ medical appointments from the city of Vitoria, Brazil to try and understand why 20% of appointments are missed.  The original data set can be found here: https://www.kaggle.com/joniarroba/noshowappointments\n",
    "\n",
    "This dataset can be analyzed from a variety of angles but this notebook specifically looks at the appointment details and the scholarships, answering the below questions.\n",
    "\n",
    "### Appointment Details - How do the appointment details influence arrivals?\n",
    "To answer the main question, we will look into the below three sub-questions.\n",
    "* Does the appointment day of the week influence arrival?\n",
    "* Are the SMS reminders effective? And what if compared to the appointment day?\n",
    "* Does an increase in waiting time affect the arrival?\n",
    "\n",
    "### Scholarships - How do scholarships influence arrivals?\n",
    "To answer the main question, we will investigate the below two sub-questions.\n",
    "* Do the people receiving the stipend arrive to appointments more often than non-recipients?\n",
    "* Are the neighbourhoods with a high percentage of no-shows inhabited by fewer scholarship recipients?"
   ]
  },
  {
   "cell_type": "code",
   "execution_count": 1,
   "metadata": {},
   "outputs": [],
   "source": [
    "#We firstly import the necessary libraries\n",
    "import pandas as pd\n",
    "import numpy as np\n",
    "import seaborn as sns\n",
    "from datetime import datetime #We will need this for later on\n",
    "import matplotlib.pyplot as plt\n",
    "%matplotlib inline"
   ]
  },
  {
   "cell_type": "markdown",
   "metadata": {},
   "source": [
    "<a id='wrangling'></a>\n",
    "## Data Wrangling\n",
    "\n",
    "The overall goal of the data wrangling step is to make the data as clean as possible for the exploration stage. We start by loading the data and then do the initial cleaning of addressing null values, duplicates, and incorrect data types."
   ]
  },
  {
   "cell_type": "code",
   "execution_count": 2,
   "metadata": {},
   "outputs": [
    {
     "data": {
      "text/html": [
       "<div>\n",
       "<style scoped>\n",
       "    .dataframe tbody tr th:only-of-type {\n",
       "        vertical-align: middle;\n",
       "    }\n",
       "\n",
       "    .dataframe tbody tr th {\n",
       "        vertical-align: top;\n",
       "    }\n",
       "\n",
       "    .dataframe thead th {\n",
       "        text-align: right;\n",
       "    }\n",
       "</style>\n",
       "<table border=\"1\" class=\"dataframe\">\n",
       "  <thead>\n",
       "    <tr style=\"text-align: right;\">\n",
       "      <th></th>\n",
       "      <th>PatientId</th>\n",
       "      <th>AppointmentID</th>\n",
       "      <th>Gender</th>\n",
       "      <th>ScheduledDay</th>\n",
       "      <th>AppointmentDay</th>\n",
       "      <th>Age</th>\n",
       "      <th>Neighbourhood</th>\n",
       "      <th>Scholarship</th>\n",
       "      <th>Hipertension</th>\n",
       "      <th>Diabetes</th>\n",
       "      <th>Alcoholism</th>\n",
       "      <th>Handcap</th>\n",
       "      <th>SMS_received</th>\n",
       "      <th>No-show</th>\n",
       "    </tr>\n",
       "  </thead>\n",
       "  <tbody>\n",
       "    <tr>\n",
       "      <td>0</td>\n",
       "      <td>2.987250e+13</td>\n",
       "      <td>5642903</td>\n",
       "      <td>F</td>\n",
       "      <td>2016-04-29T18:38:08Z</td>\n",
       "      <td>2016-04-29T00:00:00Z</td>\n",
       "      <td>62</td>\n",
       "      <td>JARDIM DA PENHA</td>\n",
       "      <td>0</td>\n",
       "      <td>1</td>\n",
       "      <td>0</td>\n",
       "      <td>0</td>\n",
       "      <td>0</td>\n",
       "      <td>0</td>\n",
       "      <td>No</td>\n",
       "    </tr>\n",
       "  </tbody>\n",
       "</table>\n",
       "</div>"
      ],
      "text/plain": [
       "      PatientId  AppointmentID Gender          ScheduledDay  \\\n",
       "0  2.987250e+13        5642903      F  2016-04-29T18:38:08Z   \n",
       "\n",
       "         AppointmentDay  Age    Neighbourhood  Scholarship  Hipertension  \\\n",
       "0  2016-04-29T00:00:00Z   62  JARDIM DA PENHA            0             1   \n",
       "\n",
       "   Diabetes  Alcoholism  Handcap  SMS_received No-show  \n",
       "0         0           0        0             0      No  "
      ]
     },
     "execution_count": 2,
     "metadata": {},
     "output_type": "execute_result"
    }
   ],
   "source": [
    "#Data is loaded and the head viewed.\n",
    "df = pd.read_csv('appointments.csv')\n",
    "df.head(1)"
   ]
  },
  {
   "cell_type": "code",
   "execution_count": 3,
   "metadata": {},
   "outputs": [
    {
     "name": "stdout",
     "output_type": "stream",
     "text": [
      "<class 'pandas.core.frame.DataFrame'>\n",
      "RangeIndex: 110527 entries, 0 to 110526\n",
      "Data columns (total 14 columns):\n",
      "PatientId         110527 non-null float64\n",
      "AppointmentID     110527 non-null int64\n",
      "Gender            110527 non-null object\n",
      "ScheduledDay      110527 non-null object\n",
      "AppointmentDay    110527 non-null object\n",
      "Age               110527 non-null int64\n",
      "Neighbourhood     110527 non-null object\n",
      "Scholarship       110527 non-null int64\n",
      "Hipertension      110527 non-null int64\n",
      "Diabetes          110527 non-null int64\n",
      "Alcoholism        110527 non-null int64\n",
      "Handcap           110527 non-null int64\n",
      "SMS_received      110527 non-null int64\n",
      "No-show           110527 non-null object\n",
      "dtypes: float64(1), int64(8), object(5)\n",
      "memory usage: 11.8+ MB\n"
     ]
    }
   ],
   "source": [
    "#Investigating data for data types, null values, etc.\n",
    "df.info()"
   ]
  },
  {
   "cell_type": "code",
   "execution_count": 4,
   "metadata": {},
   "outputs": [],
   "source": [
    "#double checking by column name for null values\n",
    "def total_missing(df,column_name):\n",
    "    is_null = df[column_name].isnull().sum()\n",
    "    return int(is_null)"
   ]
  },
  {
   "cell_type": "code",
   "execution_count": 5,
   "metadata": {},
   "outputs": [
    {
     "data": {
      "text/plain": [
       "(0, 0)"
      ]
     },
     "execution_count": 5,
     "metadata": {},
     "output_type": "execute_result"
    }
   ],
   "source": [
    "#Cheking the Handcap and Sholarship columns\n",
    "total_missing(df, 'Handcap'), total_missing(df, 'Scholarship')"
   ]
  },
  {
   "cell_type": "code",
   "execution_count": 6,
   "metadata": {},
   "outputs": [
    {
     "data": {
      "text/plain": [
       "0"
      ]
     },
     "execution_count": 6,
     "metadata": {},
     "output_type": "execute_result"
    }
   ],
   "source": [
    "#Checking for duplicates.\n",
    "df.duplicated().sum()"
   ]
  },
  {
   "cell_type": "markdown",
   "metadata": {},
   "source": [
    "It is apparent from the above cells that the following cleaning needs to take place:\n",
    "1. Column names need to be formatted for uniformity and spelling.\n",
    "2. The data types for PatientID, ScheduledDay, and AppointmentDay need to be updated to string, datetime and datetime.\n",
    "3. The neighbourhoods need to be formatted with capitalization.\n",
    "\n",
    "We also see from above that all rows have complete data, therefore, it is unnecessary to drop null values. Likewise, there aren't any duplicate rows so no need to delete duplicates.\n",
    "\n",
    "We will most likely find additional necessary changes as we proceed with cleaning."
   ]
  },
  {
   "cell_type": "markdown",
   "metadata": {},
   "source": [
    "### Data Cleaning"
   ]
  },
  {
   "cell_type": "markdown",
   "metadata": {},
   "source": [
    "COLUMN NAMES\n",
    "\n",
    "The column names need to be renamed to ensure formatting uniformity and correct spelling.  All column names are to be changed to lowercase, an underscore is inserted between words, hyphens are removed, and spelling corrected.\n"
   ]
  },
  {
   "cell_type": "code",
   "execution_count": 7,
   "metadata": {},
   "outputs": [],
   "source": [
    "#Lowercase column names.\n",
    "df.columns = map(str.lower, df.columns)\n",
    "\n",
    "#Additional formatting can easily be done by using a dictionary of new names.  Switched the day columns to date \n",
    "#so that an appointment day can be calculated later.\n",
    "df.rename(columns = {'patientid':'patient_id', 'appointmentid':'appt_id','scheduledday':'scheduled_date',\n",
    "                    'appointmentday': 'appt_date', 'hipertension':'hypertension', 'handcap':'handicap', \n",
    "                    'no-show':'no_show'},inplace = True)"
   ]
  },
  {
   "cell_type": "code",
   "execution_count": 8,
   "metadata": {},
   "outputs": [
    {
     "data": {
      "text/html": [
       "<div>\n",
       "<style scoped>\n",
       "    .dataframe tbody tr th:only-of-type {\n",
       "        vertical-align: middle;\n",
       "    }\n",
       "\n",
       "    .dataframe tbody tr th {\n",
       "        vertical-align: top;\n",
       "    }\n",
       "\n",
       "    .dataframe thead th {\n",
       "        text-align: right;\n",
       "    }\n",
       "</style>\n",
       "<table border=\"1\" class=\"dataframe\">\n",
       "  <thead>\n",
       "    <tr style=\"text-align: right;\">\n",
       "      <th></th>\n",
       "      <th>patient_id</th>\n",
       "      <th>appt_id</th>\n",
       "      <th>gender</th>\n",
       "      <th>scheduled_date</th>\n",
       "      <th>appt_date</th>\n",
       "      <th>age</th>\n",
       "      <th>neighbourhood</th>\n",
       "      <th>scholarship</th>\n",
       "      <th>hypertension</th>\n",
       "      <th>diabetes</th>\n",
       "      <th>alcoholism</th>\n",
       "      <th>handicap</th>\n",
       "      <th>sms_received</th>\n",
       "      <th>no_show</th>\n",
       "    </tr>\n",
       "  </thead>\n",
       "  <tbody>\n",
       "    <tr>\n",
       "      <td>0</td>\n",
       "      <td>2.987250e+13</td>\n",
       "      <td>5642903</td>\n",
       "      <td>F</td>\n",
       "      <td>2016-04-29T18:38:08Z</td>\n",
       "      <td>2016-04-29T00:00:00Z</td>\n",
       "      <td>62</td>\n",
       "      <td>JARDIM DA PENHA</td>\n",
       "      <td>0</td>\n",
       "      <td>1</td>\n",
       "      <td>0</td>\n",
       "      <td>0</td>\n",
       "      <td>0</td>\n",
       "      <td>0</td>\n",
       "      <td>No</td>\n",
       "    </tr>\n",
       "  </tbody>\n",
       "</table>\n",
       "</div>"
      ],
      "text/plain": [
       "     patient_id  appt_id gender        scheduled_date             appt_date  \\\n",
       "0  2.987250e+13  5642903      F  2016-04-29T18:38:08Z  2016-04-29T00:00:00Z   \n",
       "\n",
       "   age    neighbourhood  scholarship  hypertension  diabetes  alcoholism  \\\n",
       "0   62  JARDIM DA PENHA            0             1         0           0   \n",
       "\n",
       "   handicap  sms_received no_show  \n",
       "0         0             0      No  "
      ]
     },
     "execution_count": 8,
     "metadata": {},
     "output_type": "execute_result"
    }
   ],
   "source": [
    "#Ensure changes were made.\n",
    "df.head(1)"
   ]
  },
  {
   "cell_type": "markdown",
   "metadata": {},
   "source": [
    "DATA TYPES\n",
    "\n",
    "The following data types need to be changed.\n",
    "* Patient ID changed from a float to an integer.  Even though calculations won't be made on this number, it is\n",
    "kept as a number rather than string as it appears the hospitals give out IDs by incrementing a number. \n",
    "* Scheduled Day and Appointment Day changed to a datetime. As the appointment date does not include a time (all times being 00:00:00),both the scheduled date and appointment date are changed into a datetime type formatted as year-month-date."
   ]
  },
  {
   "cell_type": "code",
   "execution_count": 9,
   "metadata": {},
   "outputs": [],
   "source": [
    "#Patient ID to int.\n",
    "df['patient_id'] = df['patient_id'].astype(int)"
   ]
  },
  {
   "cell_type": "code",
   "execution_count": 10,
   "metadata": {},
   "outputs": [],
   "source": [
    "#Function to change date columns from strings to datetime.\n",
    "def time_split(df, column_name):\n",
    "    df[column_name] = df[column_name].apply(lambda x: x.split(\"T\")[0])\\\n",
    "    .apply(lambda x: datetime.strptime(x,'%Y-%m-%d'))\n",
    "    return df.head(1)"
   ]
  },
  {
   "cell_type": "code",
   "execution_count": 11,
   "metadata": {},
   "outputs": [
    {
     "data": {
      "text/html": [
       "<div>\n",
       "<style scoped>\n",
       "    .dataframe tbody tr th:only-of-type {\n",
       "        vertical-align: middle;\n",
       "    }\n",
       "\n",
       "    .dataframe tbody tr th {\n",
       "        vertical-align: top;\n",
       "    }\n",
       "\n",
       "    .dataframe thead th {\n",
       "        text-align: right;\n",
       "    }\n",
       "</style>\n",
       "<table border=\"1\" class=\"dataframe\">\n",
       "  <thead>\n",
       "    <tr style=\"text-align: right;\">\n",
       "      <th></th>\n",
       "      <th>patient_id</th>\n",
       "      <th>appt_id</th>\n",
       "      <th>gender</th>\n",
       "      <th>scheduled_date</th>\n",
       "      <th>appt_date</th>\n",
       "      <th>age</th>\n",
       "      <th>neighbourhood</th>\n",
       "      <th>scholarship</th>\n",
       "      <th>hypertension</th>\n",
       "      <th>diabetes</th>\n",
       "      <th>alcoholism</th>\n",
       "      <th>handicap</th>\n",
       "      <th>sms_received</th>\n",
       "      <th>no_show</th>\n",
       "    </tr>\n",
       "  </thead>\n",
       "  <tbody>\n",
       "    <tr>\n",
       "      <td>0</td>\n",
       "      <td>29872499824296</td>\n",
       "      <td>5642903</td>\n",
       "      <td>F</td>\n",
       "      <td>2016-04-29</td>\n",
       "      <td>2016-04-29T00:00:00Z</td>\n",
       "      <td>62</td>\n",
       "      <td>JARDIM DA PENHA</td>\n",
       "      <td>0</td>\n",
       "      <td>1</td>\n",
       "      <td>0</td>\n",
       "      <td>0</td>\n",
       "      <td>0</td>\n",
       "      <td>0</td>\n",
       "      <td>No</td>\n",
       "    </tr>\n",
       "  </tbody>\n",
       "</table>\n",
       "</div>"
      ],
      "text/plain": [
       "       patient_id  appt_id gender scheduled_date             appt_date  age  \\\n",
       "0  29872499824296  5642903      F     2016-04-29  2016-04-29T00:00:00Z   62   \n",
       "\n",
       "     neighbourhood  scholarship  hypertension  diabetes  alcoholism  handicap  \\\n",
       "0  JARDIM DA PENHA            0             1         0           0         0   \n",
       "\n",
       "   sms_received no_show  \n",
       "0             0      No  "
      ]
     },
     "execution_count": 11,
     "metadata": {},
     "output_type": "execute_result"
    }
   ],
   "source": [
    "#Changing scheduled date column\n",
    "time_split(df, 'scheduled_date')"
   ]
  },
  {
   "cell_type": "code",
   "execution_count": 12,
   "metadata": {},
   "outputs": [
    {
     "data": {
      "text/html": [
       "<div>\n",
       "<style scoped>\n",
       "    .dataframe tbody tr th:only-of-type {\n",
       "        vertical-align: middle;\n",
       "    }\n",
       "\n",
       "    .dataframe tbody tr th {\n",
       "        vertical-align: top;\n",
       "    }\n",
       "\n",
       "    .dataframe thead th {\n",
       "        text-align: right;\n",
       "    }\n",
       "</style>\n",
       "<table border=\"1\" class=\"dataframe\">\n",
       "  <thead>\n",
       "    <tr style=\"text-align: right;\">\n",
       "      <th></th>\n",
       "      <th>patient_id</th>\n",
       "      <th>appt_id</th>\n",
       "      <th>gender</th>\n",
       "      <th>scheduled_date</th>\n",
       "      <th>appt_date</th>\n",
       "      <th>age</th>\n",
       "      <th>neighbourhood</th>\n",
       "      <th>scholarship</th>\n",
       "      <th>hypertension</th>\n",
       "      <th>diabetes</th>\n",
       "      <th>alcoholism</th>\n",
       "      <th>handicap</th>\n",
       "      <th>sms_received</th>\n",
       "      <th>no_show</th>\n",
       "    </tr>\n",
       "  </thead>\n",
       "  <tbody>\n",
       "    <tr>\n",
       "      <td>0</td>\n",
       "      <td>29872499824296</td>\n",
       "      <td>5642903</td>\n",
       "      <td>F</td>\n",
       "      <td>2016-04-29</td>\n",
       "      <td>2016-04-29</td>\n",
       "      <td>62</td>\n",
       "      <td>JARDIM DA PENHA</td>\n",
       "      <td>0</td>\n",
       "      <td>1</td>\n",
       "      <td>0</td>\n",
       "      <td>0</td>\n",
       "      <td>0</td>\n",
       "      <td>0</td>\n",
       "      <td>No</td>\n",
       "    </tr>\n",
       "  </tbody>\n",
       "</table>\n",
       "</div>"
      ],
      "text/plain": [
       "       patient_id  appt_id gender scheduled_date  appt_date  age  \\\n",
       "0  29872499824296  5642903      F     2016-04-29 2016-04-29   62   \n",
       "\n",
       "     neighbourhood  scholarship  hypertension  diabetes  alcoholism  handicap  \\\n",
       "0  JARDIM DA PENHA            0             1         0           0         0   \n",
       "\n",
       "   sms_received no_show  \n",
       "0             0      No  "
      ]
     },
     "execution_count": 12,
     "metadata": {},
     "output_type": "execute_result"
    }
   ],
   "source": [
    "#Changing appt date column\n",
    "time_split(df, 'appt_date')"
   ]
  },
  {
   "cell_type": "code",
   "execution_count": 13,
   "metadata": {},
   "outputs": [
    {
     "name": "stdout",
     "output_type": "stream",
     "text": [
      "<class 'pandas.core.frame.DataFrame'>\n",
      "RangeIndex: 110527 entries, 0 to 110526\n",
      "Data columns (total 14 columns):\n",
      "patient_id        110527 non-null int64\n",
      "appt_id           110527 non-null int64\n",
      "gender            110527 non-null object\n",
      "scheduled_date    110527 non-null datetime64[ns]\n",
      "appt_date         110527 non-null datetime64[ns]\n",
      "age               110527 non-null int64\n",
      "neighbourhood     110527 non-null object\n",
      "scholarship       110527 non-null int64\n",
      "hypertension      110527 non-null int64\n",
      "diabetes          110527 non-null int64\n",
      "alcoholism        110527 non-null int64\n",
      "handicap          110527 non-null int64\n",
      "sms_received      110527 non-null int64\n",
      "no_show           110527 non-null object\n",
      "dtypes: datetime64[ns](2), int64(9), object(3)\n",
      "memory usage: 11.8+ MB\n"
     ]
    }
   ],
   "source": [
    "df.info()"
   ]
  },
  {
   "cell_type": "markdown",
   "metadata": {},
   "source": [
    "Neighbourhood Names\n",
    "\n",
    "Lastly we want to format the neighbourhood data to be structured with the first letter of each word capitalized. This isn't a mandatory step but rather more visually appealing than a name in all caps."
   ]
  },
  {
   "cell_type": "code",
   "execution_count": 332,
   "metadata": {},
   "outputs": [],
   "source": [
    "#Neighbourhood rows changed to a title format, where the first letter of each word is capitalized.\n",
    "df.neighbourhood = df.neighbourhood.str.title()"
   ]
  },
  {
   "cell_type": "markdown",
   "metadata": {},
   "source": [
    "We have completed the initial data wrangling steps.  As expected, now that the data has been worked with and investigated more, additional wrangling needs have appeared. We will now add in a few new columns: arrived, appointment_day, and waiting_time.\n",
    "\n",
    "\n",
    "NEW COLUMN: Arrived\n",
    "\n",
    "The No-Show column can be easily misunderstood due to the use of a double negative.  To make this clearer to the user, the column will be replaced with a new column named Arrived, the value of which being the opposite of the No-Show column but as an integer rather than a string, allowing us to do calculations easier later on.  The no-show column will then redundant and, therefore, dropped."
   ]
  },
  {
   "cell_type": "code",
   "execution_count": 333,
   "metadata": {},
   "outputs": [
    {
     "data": {
      "text/html": [
       "<div>\n",
       "<style scoped>\n",
       "    .dataframe tbody tr th:only-of-type {\n",
       "        vertical-align: middle;\n",
       "    }\n",
       "\n",
       "    .dataframe tbody tr th {\n",
       "        vertical-align: top;\n",
       "    }\n",
       "\n",
       "    .dataframe thead th {\n",
       "        text-align: right;\n",
       "    }\n",
       "</style>\n",
       "<table border=\"1\" class=\"dataframe\">\n",
       "  <thead>\n",
       "    <tr style=\"text-align: right;\">\n",
       "      <th></th>\n",
       "      <th>patient_id</th>\n",
       "      <th>appt_id</th>\n",
       "      <th>gender</th>\n",
       "      <th>scheduled_date</th>\n",
       "      <th>appt_date</th>\n",
       "      <th>age</th>\n",
       "      <th>neighbourhood</th>\n",
       "      <th>scholarship</th>\n",
       "      <th>hypertension</th>\n",
       "      <th>diabetes</th>\n",
       "      <th>alcoholism</th>\n",
       "      <th>handicap</th>\n",
       "      <th>sms_received</th>\n",
       "      <th>no_show</th>\n",
       "      <th>arrived</th>\n",
       "    </tr>\n",
       "  </thead>\n",
       "  <tbody>\n",
       "    <tr>\n",
       "      <td>0</td>\n",
       "      <td>29872499824296</td>\n",
       "      <td>5642903</td>\n",
       "      <td>F</td>\n",
       "      <td>2016-04-29</td>\n",
       "      <td>2016-04-29</td>\n",
       "      <td>62</td>\n",
       "      <td>Jardim Da Penha</td>\n",
       "      <td>0</td>\n",
       "      <td>1</td>\n",
       "      <td>0</td>\n",
       "      <td>0</td>\n",
       "      <td>0</td>\n",
       "      <td>0</td>\n",
       "      <td>No</td>\n",
       "      <td>1</td>\n",
       "    </tr>\n",
       "    <tr>\n",
       "      <td>1</td>\n",
       "      <td>558997776694438</td>\n",
       "      <td>5642503</td>\n",
       "      <td>M</td>\n",
       "      <td>2016-04-29</td>\n",
       "      <td>2016-04-29</td>\n",
       "      <td>56</td>\n",
       "      <td>Jardim Da Penha</td>\n",
       "      <td>0</td>\n",
       "      <td>0</td>\n",
       "      <td>0</td>\n",
       "      <td>0</td>\n",
       "      <td>0</td>\n",
       "      <td>0</td>\n",
       "      <td>No</td>\n",
       "      <td>1</td>\n",
       "    </tr>\n",
       "    <tr>\n",
       "      <td>2</td>\n",
       "      <td>4262962299951</td>\n",
       "      <td>5642549</td>\n",
       "      <td>F</td>\n",
       "      <td>2016-04-29</td>\n",
       "      <td>2016-04-29</td>\n",
       "      <td>62</td>\n",
       "      <td>Mata Da Praia</td>\n",
       "      <td>0</td>\n",
       "      <td>0</td>\n",
       "      <td>0</td>\n",
       "      <td>0</td>\n",
       "      <td>0</td>\n",
       "      <td>0</td>\n",
       "      <td>No</td>\n",
       "      <td>1</td>\n",
       "    </tr>\n",
       "    <tr>\n",
       "      <td>3</td>\n",
       "      <td>867951213174</td>\n",
       "      <td>5642828</td>\n",
       "      <td>F</td>\n",
       "      <td>2016-04-29</td>\n",
       "      <td>2016-04-29</td>\n",
       "      <td>8</td>\n",
       "      <td>Pontal De Camburi</td>\n",
       "      <td>0</td>\n",
       "      <td>0</td>\n",
       "      <td>0</td>\n",
       "      <td>0</td>\n",
       "      <td>0</td>\n",
       "      <td>0</td>\n",
       "      <td>No</td>\n",
       "      <td>1</td>\n",
       "    </tr>\n",
       "    <tr>\n",
       "      <td>4</td>\n",
       "      <td>8841186448183</td>\n",
       "      <td>5642494</td>\n",
       "      <td>F</td>\n",
       "      <td>2016-04-29</td>\n",
       "      <td>2016-04-29</td>\n",
       "      <td>56</td>\n",
       "      <td>Jardim Da Penha</td>\n",
       "      <td>0</td>\n",
       "      <td>1</td>\n",
       "      <td>1</td>\n",
       "      <td>0</td>\n",
       "      <td>0</td>\n",
       "      <td>0</td>\n",
       "      <td>No</td>\n",
       "      <td>1</td>\n",
       "    </tr>\n",
       "  </tbody>\n",
       "</table>\n",
       "</div>"
      ],
      "text/plain": [
       "        patient_id  appt_id gender scheduled_date  appt_date  age  \\\n",
       "0   29872499824296  5642903      F     2016-04-29 2016-04-29   62   \n",
       "1  558997776694438  5642503      M     2016-04-29 2016-04-29   56   \n",
       "2    4262962299951  5642549      F     2016-04-29 2016-04-29   62   \n",
       "3     867951213174  5642828      F     2016-04-29 2016-04-29    8   \n",
       "4    8841186448183  5642494      F     2016-04-29 2016-04-29   56   \n",
       "\n",
       "       neighbourhood  scholarship  hypertension  diabetes  alcoholism  \\\n",
       "0    Jardim Da Penha            0             1         0           0   \n",
       "1    Jardim Da Penha            0             0         0           0   \n",
       "2      Mata Da Praia            0             0         0           0   \n",
       "3  Pontal De Camburi            0             0         0           0   \n",
       "4    Jardim Da Penha            0             1         1           0   \n",
       "\n",
       "   handicap  sms_received no_show  arrived  \n",
       "0         0             0      No        1  \n",
       "1         0             0      No        1  \n",
       "2         0             0      No        1  \n",
       "3         0             0      No        1  \n",
       "4         0             0      No        1  "
      ]
     },
     "execution_count": 333,
     "metadata": {},
     "output_type": "execute_result"
    }
   ],
   "source": [
    "#Arrived column created and populated.\n",
    "df['arrived'] = ''\n",
    "df['arrived'] = df['no_show'].apply(lambda x: 1 if x == 'No' else 0)\n",
    "df.head()"
   ]
  },
  {
   "cell_type": "code",
   "execution_count": 334,
   "metadata": {},
   "outputs": [
    {
     "data": {
      "text/plain": [
       "True"
      ]
     },
     "execution_count": 334,
     "metadata": {},
     "output_type": "execute_result"
    }
   ],
   "source": [
    "#Checking data. Please note that in the dataframe all the columns would have the same count when using the count()\n",
    "#method.  Therefore any column can be chosen at random.  In this notebook I use the gender column.\n",
    "df.query('no_show in \"No\"').gender.count() == df.query('arrived == 1').gender.count()"
   ]
  },
  {
   "cell_type": "code",
   "execution_count": 335,
   "metadata": {},
   "outputs": [
    {
     "data": {
      "text/plain": [
       "True"
      ]
     },
     "execution_count": 335,
     "metadata": {},
     "output_type": "execute_result"
    }
   ],
   "source": [
    "#Checking data.\n",
    "df.query('no_show in \"Yes\"').gender.count()== df.query('arrived == 0').gender.count()"
   ]
  },
  {
   "cell_type": "code",
   "execution_count": 336,
   "metadata": {},
   "outputs": [],
   "source": [
    "#Dropping the no-show column now that it is redundant.\n",
    "df.drop(columns = ['no_show'], inplace = True)"
   ]
  },
  {
   "cell_type": "markdown",
   "metadata": {},
   "source": [
    "NEW COLUMNS: Apointment Day No\n",
    "\n",
    "In the exploration phase we will want to interrogate if the day of week influences arrival.  A new column will be created through a series of steps to find the appointment day based on the appointment date column."
   ]
  },
  {
   "cell_type": "code",
   "execution_count": 337,
   "metadata": {},
   "outputs": [
    {
     "data": {
      "text/html": [
       "<div>\n",
       "<style scoped>\n",
       "    .dataframe tbody tr th:only-of-type {\n",
       "        vertical-align: middle;\n",
       "    }\n",
       "\n",
       "    .dataframe tbody tr th {\n",
       "        vertical-align: top;\n",
       "    }\n",
       "\n",
       "    .dataframe thead th {\n",
       "        text-align: right;\n",
       "    }\n",
       "</style>\n",
       "<table border=\"1\" class=\"dataframe\">\n",
       "  <thead>\n",
       "    <tr style=\"text-align: right;\">\n",
       "      <th></th>\n",
       "      <th>patient_id</th>\n",
       "      <th>appt_id</th>\n",
       "      <th>gender</th>\n",
       "      <th>scheduled_date</th>\n",
       "      <th>appt_date</th>\n",
       "      <th>appt_day_no</th>\n",
       "      <th>age</th>\n",
       "      <th>neighbourhood</th>\n",
       "      <th>scholarship</th>\n",
       "      <th>hypertension</th>\n",
       "      <th>diabetes</th>\n",
       "      <th>alcoholism</th>\n",
       "      <th>handicap</th>\n",
       "      <th>sms_received</th>\n",
       "      <th>arrived</th>\n",
       "    </tr>\n",
       "  </thead>\n",
       "  <tbody>\n",
       "    <tr>\n",
       "      <td>0</td>\n",
       "      <td>29872499824296</td>\n",
       "      <td>5642903</td>\n",
       "      <td>F</td>\n",
       "      <td>2016-04-29</td>\n",
       "      <td>2016-04-29</td>\n",
       "      <td>None</td>\n",
       "      <td>62</td>\n",
       "      <td>Jardim Da Penha</td>\n",
       "      <td>0</td>\n",
       "      <td>1</td>\n",
       "      <td>0</td>\n",
       "      <td>0</td>\n",
       "      <td>0</td>\n",
       "      <td>0</td>\n",
       "      <td>1</td>\n",
       "    </tr>\n",
       "  </tbody>\n",
       "</table>\n",
       "</div>"
      ],
      "text/plain": [
       "       patient_id  appt_id gender scheduled_date  appt_date appt_day_no  age  \\\n",
       "0  29872499824296  5642903      F     2016-04-29 2016-04-29        None   62   \n",
       "\n",
       "     neighbourhood  scholarship  hypertension  diabetes  alcoholism  handicap  \\\n",
       "0  Jardim Da Penha            0             1         0           0         0   \n",
       "\n",
       "   sms_received  arrived  \n",
       "0             0        1  "
      ]
     },
     "execution_count": 337,
     "metadata": {},
     "output_type": "execute_result"
    }
   ],
   "source": [
    "#New column for day of week.  There are multiple ways to create a new column.  This time the insert() method \n",
    "#is used.  \n",
    "df.insert(5, 'appt_day_no', 'None')\n",
    "df.head(1)"
   ]
  },
  {
   "cell_type": "code",
   "execution_count": 338,
   "metadata": {},
   "outputs": [],
   "source": [
    "#Using a lambda statement it is possible to pull the day of the week from the appointment date.\n",
    "#The isoweekday() method defaults to Monday = 1.\n",
    "from datetime import date\n",
    "col = ['appt_date']\n",
    "for c in col:\n",
    "    df['appt_day_no'] = df[c].apply(lambda x: x.isoweekday())"
   ]
  },
  {
   "cell_type": "code",
   "execution_count": 339,
   "metadata": {},
   "outputs": [
    {
     "data": {
      "text/html": [
       "<div>\n",
       "<style scoped>\n",
       "    .dataframe tbody tr th:only-of-type {\n",
       "        vertical-align: middle;\n",
       "    }\n",
       "\n",
       "    .dataframe tbody tr th {\n",
       "        vertical-align: top;\n",
       "    }\n",
       "\n",
       "    .dataframe thead th {\n",
       "        text-align: right;\n",
       "    }\n",
       "</style>\n",
       "<table border=\"1\" class=\"dataframe\">\n",
       "  <thead>\n",
       "    <tr style=\"text-align: right;\">\n",
       "      <th></th>\n",
       "      <th>patient_id</th>\n",
       "      <th>appt_id</th>\n",
       "      <th>gender</th>\n",
       "      <th>scheduled_date</th>\n",
       "      <th>appt_date</th>\n",
       "      <th>appt_day_no</th>\n",
       "      <th>age</th>\n",
       "      <th>neighbourhood</th>\n",
       "      <th>scholarship</th>\n",
       "      <th>hypertension</th>\n",
       "      <th>diabetes</th>\n",
       "      <th>alcoholism</th>\n",
       "      <th>handicap</th>\n",
       "      <th>sms_received</th>\n",
       "      <th>arrived</th>\n",
       "    </tr>\n",
       "  </thead>\n",
       "  <tbody>\n",
       "    <tr>\n",
       "      <td>0</td>\n",
       "      <td>29872499824296</td>\n",
       "      <td>5642903</td>\n",
       "      <td>F</td>\n",
       "      <td>2016-04-29</td>\n",
       "      <td>2016-04-29</td>\n",
       "      <td>5</td>\n",
       "      <td>62</td>\n",
       "      <td>Jardim Da Penha</td>\n",
       "      <td>0</td>\n",
       "      <td>1</td>\n",
       "      <td>0</td>\n",
       "      <td>0</td>\n",
       "      <td>0</td>\n",
       "      <td>0</td>\n",
       "      <td>1</td>\n",
       "    </tr>\n",
       "  </tbody>\n",
       "</table>\n",
       "</div>"
      ],
      "text/plain": [
       "       patient_id  appt_id gender scheduled_date  appt_date  appt_day_no  age  \\\n",
       "0  29872499824296  5642903      F     2016-04-29 2016-04-29            5   62   \n",
       "\n",
       "     neighbourhood  scholarship  hypertension  diabetes  alcoholism  handicap  \\\n",
       "0  Jardim Da Penha            0             1         0           0         0   \n",
       "\n",
       "   sms_received  arrived  \n",
       "0             0        1  "
      ]
     },
     "execution_count": 339,
     "metadata": {},
     "output_type": "execute_result"
    }
   ],
   "source": [
    "#Ensuring changes are correct.\n",
    "df.head(1)"
   ]
  },
  {
   "cell_type": "markdown",
   "metadata": {},
   "source": [
    "NEW COLUMN: Appointment Day\n",
    "\n",
    "The Day number can be useful for calculations but often it is easier for an user to read the name of the day.  Such a column has been inserted."
   ]
  },
  {
   "cell_type": "code",
   "execution_count": 340,
   "metadata": {},
   "outputs": [
    {
     "data": {
      "text/html": [
       "<div>\n",
       "<style scoped>\n",
       "    .dataframe tbody tr th:only-of-type {\n",
       "        vertical-align: middle;\n",
       "    }\n",
       "\n",
       "    .dataframe tbody tr th {\n",
       "        vertical-align: top;\n",
       "    }\n",
       "\n",
       "    .dataframe thead th {\n",
       "        text-align: right;\n",
       "    }\n",
       "</style>\n",
       "<table border=\"1\" class=\"dataframe\">\n",
       "  <thead>\n",
       "    <tr style=\"text-align: right;\">\n",
       "      <th></th>\n",
       "      <th>patient_id</th>\n",
       "      <th>appt_id</th>\n",
       "      <th>gender</th>\n",
       "      <th>scheduled_date</th>\n",
       "      <th>appt_date</th>\n",
       "      <th>appt_day_no</th>\n",
       "      <th>appt_day</th>\n",
       "      <th>age</th>\n",
       "      <th>neighbourhood</th>\n",
       "      <th>scholarship</th>\n",
       "      <th>hypertension</th>\n",
       "      <th>diabetes</th>\n",
       "      <th>alcoholism</th>\n",
       "      <th>handicap</th>\n",
       "      <th>sms_received</th>\n",
       "      <th>arrived</th>\n",
       "    </tr>\n",
       "  </thead>\n",
       "  <tbody>\n",
       "    <tr>\n",
       "      <td>0</td>\n",
       "      <td>29872499824296</td>\n",
       "      <td>5642903</td>\n",
       "      <td>F</td>\n",
       "      <td>2016-04-29</td>\n",
       "      <td>2016-04-29</td>\n",
       "      <td>5</td>\n",
       "      <td>Fri</td>\n",
       "      <td>62</td>\n",
       "      <td>Jardim Da Penha</td>\n",
       "      <td>0</td>\n",
       "      <td>1</td>\n",
       "      <td>0</td>\n",
       "      <td>0</td>\n",
       "      <td>0</td>\n",
       "      <td>0</td>\n",
       "      <td>1</td>\n",
       "    </tr>\n",
       "    <tr>\n",
       "      <td>1</td>\n",
       "      <td>558997776694438</td>\n",
       "      <td>5642503</td>\n",
       "      <td>M</td>\n",
       "      <td>2016-04-29</td>\n",
       "      <td>2016-04-29</td>\n",
       "      <td>5</td>\n",
       "      <td>Fri</td>\n",
       "      <td>56</td>\n",
       "      <td>Jardim Da Penha</td>\n",
       "      <td>0</td>\n",
       "      <td>0</td>\n",
       "      <td>0</td>\n",
       "      <td>0</td>\n",
       "      <td>0</td>\n",
       "      <td>0</td>\n",
       "      <td>1</td>\n",
       "    </tr>\n",
       "    <tr>\n",
       "      <td>2</td>\n",
       "      <td>4262962299951</td>\n",
       "      <td>5642549</td>\n",
       "      <td>F</td>\n",
       "      <td>2016-04-29</td>\n",
       "      <td>2016-04-29</td>\n",
       "      <td>5</td>\n",
       "      <td>Fri</td>\n",
       "      <td>62</td>\n",
       "      <td>Mata Da Praia</td>\n",
       "      <td>0</td>\n",
       "      <td>0</td>\n",
       "      <td>0</td>\n",
       "      <td>0</td>\n",
       "      <td>0</td>\n",
       "      <td>0</td>\n",
       "      <td>1</td>\n",
       "    </tr>\n",
       "    <tr>\n",
       "      <td>3</td>\n",
       "      <td>867951213174</td>\n",
       "      <td>5642828</td>\n",
       "      <td>F</td>\n",
       "      <td>2016-04-29</td>\n",
       "      <td>2016-04-29</td>\n",
       "      <td>5</td>\n",
       "      <td>Fri</td>\n",
       "      <td>8</td>\n",
       "      <td>Pontal De Camburi</td>\n",
       "      <td>0</td>\n",
       "      <td>0</td>\n",
       "      <td>0</td>\n",
       "      <td>0</td>\n",
       "      <td>0</td>\n",
       "      <td>0</td>\n",
       "      <td>1</td>\n",
       "    </tr>\n",
       "    <tr>\n",
       "      <td>4</td>\n",
       "      <td>8841186448183</td>\n",
       "      <td>5642494</td>\n",
       "      <td>F</td>\n",
       "      <td>2016-04-29</td>\n",
       "      <td>2016-04-29</td>\n",
       "      <td>5</td>\n",
       "      <td>Fri</td>\n",
       "      <td>56</td>\n",
       "      <td>Jardim Da Penha</td>\n",
       "      <td>0</td>\n",
       "      <td>1</td>\n",
       "      <td>1</td>\n",
       "      <td>0</td>\n",
       "      <td>0</td>\n",
       "      <td>0</td>\n",
       "      <td>1</td>\n",
       "    </tr>\n",
       "  </tbody>\n",
       "</table>\n",
       "</div>"
      ],
      "text/plain": [
       "        patient_id  appt_id gender scheduled_date  appt_date  appt_day_no  \\\n",
       "0   29872499824296  5642903      F     2016-04-29 2016-04-29            5   \n",
       "1  558997776694438  5642503      M     2016-04-29 2016-04-29            5   \n",
       "2    4262962299951  5642549      F     2016-04-29 2016-04-29            5   \n",
       "3     867951213174  5642828      F     2016-04-29 2016-04-29            5   \n",
       "4    8841186448183  5642494      F     2016-04-29 2016-04-29            5   \n",
       "\n",
       "  appt_day  age      neighbourhood  scholarship  hypertension  diabetes  \\\n",
       "0      Fri   62    Jardim Da Penha            0             1         0   \n",
       "1      Fri   56    Jardim Da Penha            0             0         0   \n",
       "2      Fri   62      Mata Da Praia            0             0         0   \n",
       "3      Fri    8  Pontal De Camburi            0             0         0   \n",
       "4      Fri   56    Jardim Da Penha            0             1         1   \n",
       "\n",
       "   alcoholism  handicap  sms_received  arrived  \n",
       "0           0         0             0        1  \n",
       "1           0         0             0        1  \n",
       "2           0         0             0        1  \n",
       "3           0         0             0        1  \n",
       "4           0         0             0        1  "
      ]
     },
     "execution_count": 340,
     "metadata": {},
     "output_type": "execute_result"
    }
   ],
   "source": [
    "#Creating and populating the appointment day column.\n",
    "df.insert(6, 'appt_day', 'None')\n",
    "col = ['appt_day_no']\n",
    "for c in col:\n",
    "    df['appt_day'] = df[c].apply(lambda x: 'Mon' if x==1 else \n",
    "                             'Tues' if x==2 else \n",
    "                             'Wed' if x==3 else \n",
    "                             'Thur' if x==4 else \n",
    "                             'Fri' if x==5 else\n",
    "                             'Sat' if x==6 else \n",
    "                             'Sun' if x==7 else None)\n",
    "df.head()    "
   ]
  },
  {
   "cell_type": "markdown",
   "metadata": {},
   "source": [
    "NEW COLUMN: Waiting Time\n",
    "\n",
    "We later want to explore if patients with longer waiting times tend to miss their apointments.  It is, therefore, necessary to create a column that calculates the waiting time by subtracting the scheduled date from the appointment date. "
   ]
  },
  {
   "cell_type": "code",
   "execution_count": 341,
   "metadata": {},
   "outputs": [
    {
     "data": {
      "text/html": [
       "<div>\n",
       "<style scoped>\n",
       "    .dataframe tbody tr th:only-of-type {\n",
       "        vertical-align: middle;\n",
       "    }\n",
       "\n",
       "    .dataframe tbody tr th {\n",
       "        vertical-align: top;\n",
       "    }\n",
       "\n",
       "    .dataframe thead th {\n",
       "        text-align: right;\n",
       "    }\n",
       "</style>\n",
       "<table border=\"1\" class=\"dataframe\">\n",
       "  <thead>\n",
       "    <tr style=\"text-align: right;\">\n",
       "      <th></th>\n",
       "      <th>patient_id</th>\n",
       "      <th>appt_id</th>\n",
       "      <th>gender</th>\n",
       "      <th>scheduled_date</th>\n",
       "      <th>appt_date</th>\n",
       "      <th>appt_day_no</th>\n",
       "      <th>appt_day</th>\n",
       "      <th>waiting_time</th>\n",
       "      <th>age</th>\n",
       "      <th>neighbourhood</th>\n",
       "      <th>scholarship</th>\n",
       "      <th>hypertension</th>\n",
       "      <th>diabetes</th>\n",
       "      <th>alcoholism</th>\n",
       "      <th>handicap</th>\n",
       "      <th>sms_received</th>\n",
       "      <th>arrived</th>\n",
       "    </tr>\n",
       "  </thead>\n",
       "  <tbody>\n",
       "    <tr>\n",
       "      <td>0</td>\n",
       "      <td>29872499824296</td>\n",
       "      <td>5642903</td>\n",
       "      <td>F</td>\n",
       "      <td>2016-04-29</td>\n",
       "      <td>2016-04-29</td>\n",
       "      <td>5</td>\n",
       "      <td>Fri</td>\n",
       "      <td>0 days</td>\n",
       "      <td>62</td>\n",
       "      <td>Jardim Da Penha</td>\n",
       "      <td>0</td>\n",
       "      <td>1</td>\n",
       "      <td>0</td>\n",
       "      <td>0</td>\n",
       "      <td>0</td>\n",
       "      <td>0</td>\n",
       "      <td>1</td>\n",
       "    </tr>\n",
       "  </tbody>\n",
       "</table>\n",
       "</div>"
      ],
      "text/plain": [
       "       patient_id  appt_id gender scheduled_date  appt_date  appt_day_no  \\\n",
       "0  29872499824296  5642903      F     2016-04-29 2016-04-29            5   \n",
       "\n",
       "  appt_day waiting_time  age    neighbourhood  scholarship  hypertension  \\\n",
       "0      Fri       0 days   62  Jardim Da Penha            0             1   \n",
       "\n",
       "   diabetes  alcoholism  handicap  sms_received  arrived  \n",
       "0         0           0         0             0        1  "
      ]
     },
     "execution_count": 341,
     "metadata": {},
     "output_type": "execute_result"
    }
   ],
   "source": [
    "#Creating and populating waiting_time column.\n",
    "df.insert(7, 'waiting_time', df['appt_date']-df['scheduled_date'])\n",
    "df.head(1)"
   ]
  },
  {
   "cell_type": "code",
   "execution_count": 342,
   "metadata": {},
   "outputs": [
    {
     "data": {
      "text/plain": [
       "dtype('<m8[ns]')"
      ]
     },
     "execution_count": 342,
     "metadata": {},
     "output_type": "execute_result"
    }
   ],
   "source": [
    "#Checking data type of waiting time.\n",
    "df.waiting_time.dtype"
   ]
  },
  {
   "cell_type": "markdown",
   "metadata": {},
   "source": [
    "We see in the last cell that the waiting time column data type is a timedelta.  This will be difficult for us to use for calculations going forward.  We will change this datatype rather to an int through a series of steps."
   ]
  },
  {
   "cell_type": "code",
   "execution_count": 343,
   "metadata": {},
   "outputs": [
    {
     "data": {
      "text/plain": [
       "0          0 days 00:00:00.000000000\n",
       "1          0 days 00:00:00.000000000\n",
       "2          0 days 00:00:00.000000000\n",
       "3          0 days 00:00:00.000000000\n",
       "4          0 days 00:00:00.000000000\n",
       "                     ...            \n",
       "110522    35 days 00:00:00.000000000\n",
       "110523    35 days 00:00:00.000000000\n",
       "110524    41 days 00:00:00.000000000\n",
       "110525    41 days 00:00:00.000000000\n",
       "110526    41 days 00:00:00.000000000\n",
       "Name: waiting_time, Length: 110527, dtype: object"
      ]
     },
     "execution_count": 343,
     "metadata": {},
     "output_type": "execute_result"
    }
   ],
   "source": [
    "#Firstly change the data type to a string.\n",
    "df.waiting_time = df.waiting_time.astype(str)\n",
    "df.waiting_time"
   ]
  },
  {
   "cell_type": "markdown",
   "metadata": {},
   "source": [
    "We see that changing the column to a string shows the extent of the information held in the timedelta data type.  All that is relevant for us is the integer.  We can extract this by using the split() method."
   ]
  },
  {
   "cell_type": "code",
   "execution_count": 344,
   "metadata": {},
   "outputs": [
    {
     "data": {
      "text/html": [
       "<div>\n",
       "<style scoped>\n",
       "    .dataframe tbody tr th:only-of-type {\n",
       "        vertical-align: middle;\n",
       "    }\n",
       "\n",
       "    .dataframe tbody tr th {\n",
       "        vertical-align: top;\n",
       "    }\n",
       "\n",
       "    .dataframe thead th {\n",
       "        text-align: right;\n",
       "    }\n",
       "</style>\n",
       "<table border=\"1\" class=\"dataframe\">\n",
       "  <thead>\n",
       "    <tr style=\"text-align: right;\">\n",
       "      <th></th>\n",
       "      <th>patient_id</th>\n",
       "      <th>appt_id</th>\n",
       "      <th>gender</th>\n",
       "      <th>scheduled_date</th>\n",
       "      <th>appt_date</th>\n",
       "      <th>appt_day_no</th>\n",
       "      <th>appt_day</th>\n",
       "      <th>waiting_time</th>\n",
       "      <th>age</th>\n",
       "      <th>neighbourhood</th>\n",
       "      <th>scholarship</th>\n",
       "      <th>hypertension</th>\n",
       "      <th>diabetes</th>\n",
       "      <th>alcoholism</th>\n",
       "      <th>handicap</th>\n",
       "      <th>sms_received</th>\n",
       "      <th>arrived</th>\n",
       "    </tr>\n",
       "  </thead>\n",
       "  <tbody>\n",
       "    <tr>\n",
       "      <td>0</td>\n",
       "      <td>29872499824296</td>\n",
       "      <td>5642903</td>\n",
       "      <td>F</td>\n",
       "      <td>2016-04-29</td>\n",
       "      <td>2016-04-29</td>\n",
       "      <td>5</td>\n",
       "      <td>Fri</td>\n",
       "      <td>0</td>\n",
       "      <td>62</td>\n",
       "      <td>Jardim Da Penha</td>\n",
       "      <td>0</td>\n",
       "      <td>1</td>\n",
       "      <td>0</td>\n",
       "      <td>0</td>\n",
       "      <td>0</td>\n",
       "      <td>0</td>\n",
       "      <td>1</td>\n",
       "    </tr>\n",
       "  </tbody>\n",
       "</table>\n",
       "</div>"
      ],
      "text/plain": [
       "       patient_id  appt_id gender scheduled_date  appt_date  appt_day_no  \\\n",
       "0  29872499824296  5642903      F     2016-04-29 2016-04-29            5   \n",
       "\n",
       "  appt_day waiting_time  age    neighbourhood  scholarship  hypertension  \\\n",
       "0      Fri            0   62  Jardim Da Penha            0             1   \n",
       "\n",
       "   diabetes  alcoholism  handicap  sms_received  arrived  \n",
       "0         0           0         0             0        1  "
      ]
     },
     "execution_count": 344,
     "metadata": {},
     "output_type": "execute_result"
    }
   ],
   "source": [
    "#Splitting the string to only return the number.\n",
    "col = ['waiting_time']\n",
    "for c in col:\n",
    "   df[c] = df[c].apply(lambda x: x.split(\" \")[0])\n",
    "\n",
    "df.head(1)"
   ]
  },
  {
   "cell_type": "code",
   "execution_count": 345,
   "metadata": {},
   "outputs": [
    {
     "data": {
      "text/plain": [
       "0          0\n",
       "1          0\n",
       "2          0\n",
       "3          0\n",
       "4          0\n",
       "          ..\n",
       "110522    35\n",
       "110523    35\n",
       "110524    41\n",
       "110525    41\n",
       "110526    41\n",
       "Name: waiting_time, Length: 110527, dtype: int64"
      ]
     },
     "execution_count": 345,
     "metadata": {},
     "output_type": "execute_result"
    }
   ],
   "source": [
    "#Lastly changing this to an integer.\n",
    "df.waiting_time = df.waiting_time.astype(int)\n",
    "df.waiting_time"
   ]
  },
  {
   "cell_type": "markdown",
   "metadata": {},
   "source": [
    "The columns and data types are now in order.  We can move on to looking at the rows and their content."
   ]
  },
  {
   "cell_type": "code",
   "execution_count": 346,
   "metadata": {},
   "outputs": [
    {
     "data": {
      "text/plain": [
       "patient_id         62299\n",
       "appt_id           110527\n",
       "gender                 2\n",
       "scheduled_date       111\n",
       "appt_date             27\n",
       "appt_day_no            6\n",
       "appt_day               6\n",
       "waiting_time         131\n",
       "age                  104\n",
       "neighbourhood         81\n",
       "scholarship            2\n",
       "hypertension           2\n",
       "diabetes               2\n",
       "alcoholism             2\n",
       "handicap               5\n",
       "sms_received           2\n",
       "arrived                2\n",
       "dtype: int64"
      ]
     },
     "execution_count": 346,
     "metadata": {},
     "output_type": "execute_result"
    }
   ],
   "source": [
    "#Looking at the number of unique values in the columns.\n",
    "df.nunique()"
   ]
  },
  {
   "cell_type": "code",
   "execution_count": 347,
   "metadata": {},
   "outputs": [],
   "source": [
    "#Function that provides a set of unique values for the requested column\n",
    "def unique_val(df, column_name):\n",
    "    unq_set = set()\n",
    "    for x in df[column_name]:\n",
    "        unq_set.add(x)\n",
    "    return unq_set"
   ]
  },
  {
   "cell_type": "code",
   "execution_count": 348,
   "metadata": {},
   "outputs": [
    {
     "data": {
      "text/plain": [
       "{0, 1, 2, 3, 4}"
      ]
     },
     "execution_count": 348,
     "metadata": {},
     "output_type": "execute_result"
    }
   ],
   "source": [
    "#Unique values in the handicap\n",
    "unique_val(df, 'handicap')"
   ]
  },
  {
   "cell_type": "code",
   "execution_count": 349,
   "metadata": {},
   "outputs": [
    {
     "data": {
      "text/plain": [
       "({0, 1}, {'F', 'M'})"
      ]
     },
     "execution_count": 349,
     "metadata": {},
     "output_type": "execute_result"
    }
   ],
   "source": [
    "#Unique values in the sms_received and gender column\n",
    "unique_val(df, 'sms_received'), unique_val(df, 'gender')"
   ]
  },
  {
   "cell_type": "markdown",
   "metadata": {},
   "source": [
    "We can learn a lot from looking at the unique values.  For instance. \n",
    "\n",
    "* Patient ID  - This is less than the appointment ID meaning that patients came more than once.\n",
    "* Appt ID - This is correct as we have the same count of id numbers as we do rows in the data base.\n",
    "* Ages - There is a large range of ages that we should investigate further to ensure there aren't errors.\n",
    "* Waiting Time - There is a range of 131 waiting time.  We should review further to check for any errors.\n",
    "* Neighbourhood - There are 81 neighbourhoods.  We should ensure there aren't any errors, specifically spelling mistakes.\n",
    "* Handicaps - There are 5 options here.  We should investigate what these handicaps represent.\n",
    "* Lastly, many of the columns list unique value of 2 and all these columns should have only 2 unique values, so this is accurate.\n",
    "\n",
    "Before digging deeper into the data, I stopped to see if there was further documentation. \n",
    "As this was a Kaggle dataset it also is accompanied by the discussion forum and I learned (and can compare with the dataset) the following.\n",
    "\n",
    "Ages \n",
    "* One of the values in the age category is a -1.  Reviewing the Kaggle discussion board it appears this -1 is to represent a newborn child but the consensus is to delete this row as it is the only entry with a negative value.\n",
    "* The age of 0 was confirmed through Kaggle discussions that this is for a child not yet 1, so a newborn.\n",
    "* There are quite a few entries with ages over 100.  This is to be explored to see if this is in error.\n",
    "\n",
    "Handicaps\n",
    "* I initially assumed the handicaps were for binary numbers and represented a type of handicap.  Upon further reading it was found that this thinking was inaccurate and that actually it is the number of handicaps, so a patient with a number 2 has 2 handicaps.  The dataset does not differentiate regarding what type of handicap(s) the patient has.\n",
    "\n",
    "SMS Received\n",
    "* According to the Kaggel discussion board this is also not a binary but rather an integer for number of SMS messages sent.  Therefore 0 means no messages and 1 means 1 message, etc. This version of the dataset has only 0 and 1 whereas it seems previous datasets included additional numbers."
   ]
  },
  {
   "cell_type": "markdown",
   "metadata": {},
   "source": [
    "Next steps is to look into ages, waiting time and neighbourhood.  Starting with age we will drop the individual with the -1 age and investigate the individuals with ages over 100."
   ]
  },
  {
   "cell_type": "code",
   "execution_count": 350,
   "metadata": {},
   "outputs": [
    {
     "data": {
      "text/html": [
       "<div>\n",
       "<style scoped>\n",
       "    .dataframe tbody tr th:only-of-type {\n",
       "        vertical-align: middle;\n",
       "    }\n",
       "\n",
       "    .dataframe tbody tr th {\n",
       "        vertical-align: top;\n",
       "    }\n",
       "\n",
       "    .dataframe thead th {\n",
       "        text-align: right;\n",
       "    }\n",
       "</style>\n",
       "<table border=\"1\" class=\"dataframe\">\n",
       "  <thead>\n",
       "    <tr style=\"text-align: right;\">\n",
       "      <th></th>\n",
       "      <th>patient_id</th>\n",
       "      <th>appt_id</th>\n",
       "      <th>gender</th>\n",
       "      <th>scheduled_date</th>\n",
       "      <th>appt_date</th>\n",
       "      <th>appt_day_no</th>\n",
       "      <th>appt_day</th>\n",
       "      <th>waiting_time</th>\n",
       "      <th>age</th>\n",
       "      <th>neighbourhood</th>\n",
       "      <th>scholarship</th>\n",
       "      <th>hypertension</th>\n",
       "      <th>diabetes</th>\n",
       "      <th>alcoholism</th>\n",
       "      <th>handicap</th>\n",
       "      <th>sms_received</th>\n",
       "      <th>arrived</th>\n",
       "    </tr>\n",
       "  </thead>\n",
       "  <tbody>\n",
       "    <tr>\n",
       "      <td>99832</td>\n",
       "      <td>465943158731293</td>\n",
       "      <td>5775010</td>\n",
       "      <td>F</td>\n",
       "      <td>2016-06-06</td>\n",
       "      <td>2016-06-06</td>\n",
       "      <td>1</td>\n",
       "      <td>Mon</td>\n",
       "      <td>0</td>\n",
       "      <td>-1</td>\n",
       "      <td>Romão</td>\n",
       "      <td>0</td>\n",
       "      <td>0</td>\n",
       "      <td>0</td>\n",
       "      <td>0</td>\n",
       "      <td>0</td>\n",
       "      <td>0</td>\n",
       "      <td>1</td>\n",
       "    </tr>\n",
       "  </tbody>\n",
       "</table>\n",
       "</div>"
      ],
      "text/plain": [
       "            patient_id  appt_id gender scheduled_date  appt_date  appt_day_no  \\\n",
       "99832  465943158731293  5775010      F     2016-06-06 2016-06-06            1   \n",
       "\n",
       "      appt_day  waiting_time  age neighbourhood  scholarship  hypertension  \\\n",
       "99832      Mon             0   -1         Romão            0             0   \n",
       "\n",
       "       diabetes  alcoholism  handicap  sms_received  arrived  \n",
       "99832         0           0         0             0        1  "
      ]
     },
     "execution_count": 350,
     "metadata": {},
     "output_type": "execute_result"
    }
   ],
   "source": [
    "#Checking for the individual with a negative age.\n",
    "df.query('age<0')"
   ]
  },
  {
   "cell_type": "code",
   "execution_count": 351,
   "metadata": {},
   "outputs": [
    {
     "data": {
      "text/html": [
       "<div>\n",
       "<style scoped>\n",
       "    .dataframe tbody tr th:only-of-type {\n",
       "        vertical-align: middle;\n",
       "    }\n",
       "\n",
       "    .dataframe tbody tr th {\n",
       "        vertical-align: top;\n",
       "    }\n",
       "\n",
       "    .dataframe thead th {\n",
       "        text-align: right;\n",
       "    }\n",
       "</style>\n",
       "<table border=\"1\" class=\"dataframe\">\n",
       "  <thead>\n",
       "    <tr style=\"text-align: right;\">\n",
       "      <th></th>\n",
       "      <th>patient_id</th>\n",
       "      <th>appt_id</th>\n",
       "      <th>gender</th>\n",
       "      <th>scheduled_date</th>\n",
       "      <th>appt_date</th>\n",
       "      <th>appt_day_no</th>\n",
       "      <th>appt_day</th>\n",
       "      <th>waiting_time</th>\n",
       "      <th>age</th>\n",
       "      <th>neighbourhood</th>\n",
       "      <th>scholarship</th>\n",
       "      <th>hypertension</th>\n",
       "      <th>diabetes</th>\n",
       "      <th>alcoholism</th>\n",
       "      <th>handicap</th>\n",
       "      <th>sms_received</th>\n",
       "      <th>arrived</th>\n",
       "    </tr>\n",
       "  </thead>\n",
       "  <tbody>\n",
       "  </tbody>\n",
       "</table>\n",
       "</div>"
      ],
      "text/plain": [
       "Empty DataFrame\n",
       "Columns: [patient_id, appt_id, gender, scheduled_date, appt_date, appt_day_no, appt_day, waiting_time, age, neighbourhood, scholarship, hypertension, diabetes, alcoholism, handicap, sms_received, arrived]\n",
       "Index: []"
      ]
     },
     "execution_count": 351,
     "metadata": {},
     "output_type": "execute_result"
    }
   ],
   "source": [
    "#Deleting row with the negative age. \n",
    "df.query('age <0')\n",
    "df.drop(df[df.age<0].index, inplace = True)\n",
    "df.query('age <0')"
   ]
  },
  {
   "cell_type": "code",
   "execution_count": 352,
   "metadata": {},
   "outputs": [
    {
     "data": {
      "text/html": [
       "<div>\n",
       "<style scoped>\n",
       "    .dataframe tbody tr th:only-of-type {\n",
       "        vertical-align: middle;\n",
       "    }\n",
       "\n",
       "    .dataframe tbody tr th {\n",
       "        vertical-align: top;\n",
       "    }\n",
       "\n",
       "    .dataframe thead th {\n",
       "        text-align: right;\n",
       "    }\n",
       "</style>\n",
       "<table border=\"1\" class=\"dataframe\">\n",
       "  <thead>\n",
       "    <tr style=\"text-align: right;\">\n",
       "      <th></th>\n",
       "      <th>patient_id</th>\n",
       "      <th>appt_id</th>\n",
       "      <th>gender</th>\n",
       "      <th>scheduled_date</th>\n",
       "      <th>appt_date</th>\n",
       "      <th>appt_day_no</th>\n",
       "      <th>appt_day</th>\n",
       "      <th>waiting_time</th>\n",
       "      <th>age</th>\n",
       "      <th>neighbourhood</th>\n",
       "      <th>scholarship</th>\n",
       "      <th>hypertension</th>\n",
       "      <th>diabetes</th>\n",
       "      <th>alcoholism</th>\n",
       "      <th>handicap</th>\n",
       "      <th>sms_received</th>\n",
       "      <th>arrived</th>\n",
       "    </tr>\n",
       "  </thead>\n",
       "  <tbody>\n",
       "    <tr>\n",
       "      <td>58014</td>\n",
       "      <td>976294799775439</td>\n",
       "      <td>5651757</td>\n",
       "      <td>F</td>\n",
       "      <td>2016-05-03</td>\n",
       "      <td>2016-05-03</td>\n",
       "      <td>2</td>\n",
       "      <td>Tues</td>\n",
       "      <td>0</td>\n",
       "      <td>102</td>\n",
       "      <td>Conquista</td>\n",
       "      <td>0</td>\n",
       "      <td>0</td>\n",
       "      <td>0</td>\n",
       "      <td>0</td>\n",
       "      <td>0</td>\n",
       "      <td>0</td>\n",
       "      <td>1</td>\n",
       "    </tr>\n",
       "    <tr>\n",
       "      <td>63912</td>\n",
       "      <td>31963211613981</td>\n",
       "      <td>5700278</td>\n",
       "      <td>F</td>\n",
       "      <td>2016-05-16</td>\n",
       "      <td>2016-05-19</td>\n",
       "      <td>4</td>\n",
       "      <td>Thur</td>\n",
       "      <td>3</td>\n",
       "      <td>115</td>\n",
       "      <td>Andorinhas</td>\n",
       "      <td>0</td>\n",
       "      <td>0</td>\n",
       "      <td>0</td>\n",
       "      <td>0</td>\n",
       "      <td>1</td>\n",
       "      <td>0</td>\n",
       "      <td>0</td>\n",
       "    </tr>\n",
       "    <tr>\n",
       "      <td>63915</td>\n",
       "      <td>31963211613981</td>\n",
       "      <td>5700279</td>\n",
       "      <td>F</td>\n",
       "      <td>2016-05-16</td>\n",
       "      <td>2016-05-19</td>\n",
       "      <td>4</td>\n",
       "      <td>Thur</td>\n",
       "      <td>3</td>\n",
       "      <td>115</td>\n",
       "      <td>Andorinhas</td>\n",
       "      <td>0</td>\n",
       "      <td>0</td>\n",
       "      <td>0</td>\n",
       "      <td>0</td>\n",
       "      <td>1</td>\n",
       "      <td>0</td>\n",
       "      <td>0</td>\n",
       "    </tr>\n",
       "    <tr>\n",
       "      <td>68127</td>\n",
       "      <td>31963211613981</td>\n",
       "      <td>5562812</td>\n",
       "      <td>F</td>\n",
       "      <td>2016-04-08</td>\n",
       "      <td>2016-05-16</td>\n",
       "      <td>1</td>\n",
       "      <td>Mon</td>\n",
       "      <td>38</td>\n",
       "      <td>115</td>\n",
       "      <td>Andorinhas</td>\n",
       "      <td>0</td>\n",
       "      <td>0</td>\n",
       "      <td>0</td>\n",
       "      <td>0</td>\n",
       "      <td>1</td>\n",
       "      <td>0</td>\n",
       "      <td>0</td>\n",
       "    </tr>\n",
       "    <tr>\n",
       "      <td>76284</td>\n",
       "      <td>31963211613981</td>\n",
       "      <td>5744037</td>\n",
       "      <td>F</td>\n",
       "      <td>2016-05-30</td>\n",
       "      <td>2016-05-30</td>\n",
       "      <td>1</td>\n",
       "      <td>Mon</td>\n",
       "      <td>0</td>\n",
       "      <td>115</td>\n",
       "      <td>Andorinhas</td>\n",
       "      <td>0</td>\n",
       "      <td>0</td>\n",
       "      <td>0</td>\n",
       "      <td>0</td>\n",
       "      <td>1</td>\n",
       "      <td>0</td>\n",
       "      <td>1</td>\n",
       "    </tr>\n",
       "    <tr>\n",
       "      <td>79270</td>\n",
       "      <td>9739429797896</td>\n",
       "      <td>5747809</td>\n",
       "      <td>M</td>\n",
       "      <td>2016-05-30</td>\n",
       "      <td>2016-05-31</td>\n",
       "      <td>2</td>\n",
       "      <td>Tues</td>\n",
       "      <td>1</td>\n",
       "      <td>100</td>\n",
       "      <td>Tabuazeiro</td>\n",
       "      <td>0</td>\n",
       "      <td>0</td>\n",
       "      <td>0</td>\n",
       "      <td>0</td>\n",
       "      <td>1</td>\n",
       "      <td>0</td>\n",
       "      <td>1</td>\n",
       "    </tr>\n",
       "    <tr>\n",
       "      <td>79272</td>\n",
       "      <td>9739429797896</td>\n",
       "      <td>5747808</td>\n",
       "      <td>M</td>\n",
       "      <td>2016-05-30</td>\n",
       "      <td>2016-05-31</td>\n",
       "      <td>2</td>\n",
       "      <td>Tues</td>\n",
       "      <td>1</td>\n",
       "      <td>100</td>\n",
       "      <td>Tabuazeiro</td>\n",
       "      <td>0</td>\n",
       "      <td>0</td>\n",
       "      <td>0</td>\n",
       "      <td>0</td>\n",
       "      <td>1</td>\n",
       "      <td>0</td>\n",
       "      <td>1</td>\n",
       "    </tr>\n",
       "    <tr>\n",
       "      <td>90372</td>\n",
       "      <td>234283596548</td>\n",
       "      <td>5751563</td>\n",
       "      <td>F</td>\n",
       "      <td>2016-05-31</td>\n",
       "      <td>2016-06-02</td>\n",
       "      <td>4</td>\n",
       "      <td>Thur</td>\n",
       "      <td>2</td>\n",
       "      <td>102</td>\n",
       "      <td>Maria Ortiz</td>\n",
       "      <td>0</td>\n",
       "      <td>0</td>\n",
       "      <td>0</td>\n",
       "      <td>0</td>\n",
       "      <td>0</td>\n",
       "      <td>0</td>\n",
       "      <td>1</td>\n",
       "    </tr>\n",
       "    <tr>\n",
       "      <td>92084</td>\n",
       "      <td>55783129426615</td>\n",
       "      <td>5670914</td>\n",
       "      <td>F</td>\n",
       "      <td>2016-05-06</td>\n",
       "      <td>2016-06-03</td>\n",
       "      <td>5</td>\n",
       "      <td>Fri</td>\n",
       "      <td>28</td>\n",
       "      <td>100</td>\n",
       "      <td>Antônio Honório</td>\n",
       "      <td>0</td>\n",
       "      <td>0</td>\n",
       "      <td>0</td>\n",
       "      <td>0</td>\n",
       "      <td>0</td>\n",
       "      <td>1</td>\n",
       "      <td>1</td>\n",
       "    </tr>\n",
       "    <tr>\n",
       "      <td>97666</td>\n",
       "      <td>748234579244724</td>\n",
       "      <td>5717451</td>\n",
       "      <td>F</td>\n",
       "      <td>2016-05-19</td>\n",
       "      <td>2016-06-03</td>\n",
       "      <td>5</td>\n",
       "      <td>Fri</td>\n",
       "      <td>15</td>\n",
       "      <td>115</td>\n",
       "      <td>São José</td>\n",
       "      <td>0</td>\n",
       "      <td>1</td>\n",
       "      <td>0</td>\n",
       "      <td>0</td>\n",
       "      <td>0</td>\n",
       "      <td>1</td>\n",
       "      <td>1</td>\n",
       "    </tr>\n",
       "    <tr>\n",
       "      <td>108506</td>\n",
       "      <td>393964189799</td>\n",
       "      <td>5721152</td>\n",
       "      <td>F</td>\n",
       "      <td>2016-05-19</td>\n",
       "      <td>2016-06-01</td>\n",
       "      <td>3</td>\n",
       "      <td>Wed</td>\n",
       "      <td>13</td>\n",
       "      <td>100</td>\n",
       "      <td>Maruípe</td>\n",
       "      <td>0</td>\n",
       "      <td>0</td>\n",
       "      <td>0</td>\n",
       "      <td>0</td>\n",
       "      <td>0</td>\n",
       "      <td>0</td>\n",
       "      <td>1</td>\n",
       "    </tr>\n",
       "  </tbody>\n",
       "</table>\n",
       "</div>"
      ],
      "text/plain": [
       "             patient_id  appt_id gender scheduled_date  appt_date  \\\n",
       "58014   976294799775439  5651757      F     2016-05-03 2016-05-03   \n",
       "63912    31963211613981  5700278      F     2016-05-16 2016-05-19   \n",
       "63915    31963211613981  5700279      F     2016-05-16 2016-05-19   \n",
       "68127    31963211613981  5562812      F     2016-04-08 2016-05-16   \n",
       "76284    31963211613981  5744037      F     2016-05-30 2016-05-30   \n",
       "79270     9739429797896  5747809      M     2016-05-30 2016-05-31   \n",
       "79272     9739429797896  5747808      M     2016-05-30 2016-05-31   \n",
       "90372      234283596548  5751563      F     2016-05-31 2016-06-02   \n",
       "92084    55783129426615  5670914      F     2016-05-06 2016-06-03   \n",
       "97666   748234579244724  5717451      F     2016-05-19 2016-06-03   \n",
       "108506     393964189799  5721152      F     2016-05-19 2016-06-01   \n",
       "\n",
       "        appt_day_no appt_day  waiting_time  age    neighbourhood  scholarship  \\\n",
       "58014             2     Tues             0  102        Conquista            0   \n",
       "63912             4     Thur             3  115       Andorinhas            0   \n",
       "63915             4     Thur             3  115       Andorinhas            0   \n",
       "68127             1      Mon            38  115       Andorinhas            0   \n",
       "76284             1      Mon             0  115       Andorinhas            0   \n",
       "79270             2     Tues             1  100       Tabuazeiro            0   \n",
       "79272             2     Tues             1  100       Tabuazeiro            0   \n",
       "90372             4     Thur             2  102      Maria Ortiz            0   \n",
       "92084             5      Fri            28  100  Antônio Honório            0   \n",
       "97666             5      Fri            15  115         São José            0   \n",
       "108506            3      Wed            13  100          Maruípe            0   \n",
       "\n",
       "        hypertension  diabetes  alcoholism  handicap  sms_received  arrived  \n",
       "58014              0         0           0         0             0        1  \n",
       "63912              0         0           0         1             0        0  \n",
       "63915              0         0           0         1             0        0  \n",
       "68127              0         0           0         1             0        0  \n",
       "76284              0         0           0         1             0        1  \n",
       "79270              0         0           0         1             0        1  \n",
       "79272              0         0           0         1             0        1  \n",
       "90372              0         0           0         0             0        1  \n",
       "92084              0         0           0         0             1        1  \n",
       "97666              1         0           0         0             1        1  \n",
       "108506             0         0           0         0             0        1  "
      ]
     },
     "execution_count": 352,
     "metadata": {},
     "output_type": "execute_result"
    }
   ],
   "source": [
    "#Looking for the patients older than 100.\n",
    "df.query('age >99')"
   ]
  },
  {
   "cell_type": "code",
   "execution_count": 353,
   "metadata": {},
   "outputs": [
    {
     "data": {
      "text/html": [
       "<div>\n",
       "<style scoped>\n",
       "    .dataframe tbody tr th:only-of-type {\n",
       "        vertical-align: middle;\n",
       "    }\n",
       "\n",
       "    .dataframe tbody tr th {\n",
       "        vertical-align: top;\n",
       "    }\n",
       "\n",
       "    .dataframe thead th {\n",
       "        text-align: right;\n",
       "    }\n",
       "</style>\n",
       "<table border=\"1\" class=\"dataframe\">\n",
       "  <thead>\n",
       "    <tr style=\"text-align: right;\">\n",
       "      <th></th>\n",
       "      <th></th>\n",
       "      <th>appt_id</th>\n",
       "      <th>gender</th>\n",
       "      <th>scheduled_date</th>\n",
       "      <th>appt_date</th>\n",
       "      <th>appt_day_no</th>\n",
       "      <th>appt_day</th>\n",
       "      <th>waiting_time</th>\n",
       "      <th>neighbourhood</th>\n",
       "      <th>scholarship</th>\n",
       "      <th>hypertension</th>\n",
       "      <th>diabetes</th>\n",
       "      <th>alcoholism</th>\n",
       "      <th>handicap</th>\n",
       "      <th>sms_received</th>\n",
       "      <th>arrived</th>\n",
       "    </tr>\n",
       "    <tr>\n",
       "      <th>age</th>\n",
       "      <th>patient_id</th>\n",
       "      <th></th>\n",
       "      <th></th>\n",
       "      <th></th>\n",
       "      <th></th>\n",
       "      <th></th>\n",
       "      <th></th>\n",
       "      <th></th>\n",
       "      <th></th>\n",
       "      <th></th>\n",
       "      <th></th>\n",
       "      <th></th>\n",
       "      <th></th>\n",
       "      <th></th>\n",
       "      <th></th>\n",
       "      <th></th>\n",
       "    </tr>\n",
       "  </thead>\n",
       "  <tbody>\n",
       "    <tr>\n",
       "      <td rowspan=\"3\" valign=\"top\">100</td>\n",
       "      <td>393964189799</td>\n",
       "      <td>1</td>\n",
       "      <td>1</td>\n",
       "      <td>1</td>\n",
       "      <td>1</td>\n",
       "      <td>1</td>\n",
       "      <td>1</td>\n",
       "      <td>1</td>\n",
       "      <td>1</td>\n",
       "      <td>1</td>\n",
       "      <td>1</td>\n",
       "      <td>1</td>\n",
       "      <td>1</td>\n",
       "      <td>1</td>\n",
       "      <td>1</td>\n",
       "      <td>1</td>\n",
       "    </tr>\n",
       "    <tr>\n",
       "      <td>9739429797896</td>\n",
       "      <td>2</td>\n",
       "      <td>2</td>\n",
       "      <td>2</td>\n",
       "      <td>2</td>\n",
       "      <td>2</td>\n",
       "      <td>2</td>\n",
       "      <td>2</td>\n",
       "      <td>2</td>\n",
       "      <td>2</td>\n",
       "      <td>2</td>\n",
       "      <td>2</td>\n",
       "      <td>2</td>\n",
       "      <td>2</td>\n",
       "      <td>2</td>\n",
       "      <td>2</td>\n",
       "    </tr>\n",
       "    <tr>\n",
       "      <td>55783129426615</td>\n",
       "      <td>1</td>\n",
       "      <td>1</td>\n",
       "      <td>1</td>\n",
       "      <td>1</td>\n",
       "      <td>1</td>\n",
       "      <td>1</td>\n",
       "      <td>1</td>\n",
       "      <td>1</td>\n",
       "      <td>1</td>\n",
       "      <td>1</td>\n",
       "      <td>1</td>\n",
       "      <td>1</td>\n",
       "      <td>1</td>\n",
       "      <td>1</td>\n",
       "      <td>1</td>\n",
       "    </tr>\n",
       "    <tr>\n",
       "      <td rowspan=\"2\" valign=\"top\">102</td>\n",
       "      <td>234283596548</td>\n",
       "      <td>1</td>\n",
       "      <td>1</td>\n",
       "      <td>1</td>\n",
       "      <td>1</td>\n",
       "      <td>1</td>\n",
       "      <td>1</td>\n",
       "      <td>1</td>\n",
       "      <td>1</td>\n",
       "      <td>1</td>\n",
       "      <td>1</td>\n",
       "      <td>1</td>\n",
       "      <td>1</td>\n",
       "      <td>1</td>\n",
       "      <td>1</td>\n",
       "      <td>1</td>\n",
       "    </tr>\n",
       "    <tr>\n",
       "      <td>976294799775439</td>\n",
       "      <td>1</td>\n",
       "      <td>1</td>\n",
       "      <td>1</td>\n",
       "      <td>1</td>\n",
       "      <td>1</td>\n",
       "      <td>1</td>\n",
       "      <td>1</td>\n",
       "      <td>1</td>\n",
       "      <td>1</td>\n",
       "      <td>1</td>\n",
       "      <td>1</td>\n",
       "      <td>1</td>\n",
       "      <td>1</td>\n",
       "      <td>1</td>\n",
       "      <td>1</td>\n",
       "    </tr>\n",
       "    <tr>\n",
       "      <td rowspan=\"2\" valign=\"top\">115</td>\n",
       "      <td>31963211613981</td>\n",
       "      <td>4</td>\n",
       "      <td>4</td>\n",
       "      <td>4</td>\n",
       "      <td>4</td>\n",
       "      <td>4</td>\n",
       "      <td>4</td>\n",
       "      <td>4</td>\n",
       "      <td>4</td>\n",
       "      <td>4</td>\n",
       "      <td>4</td>\n",
       "      <td>4</td>\n",
       "      <td>4</td>\n",
       "      <td>4</td>\n",
       "      <td>4</td>\n",
       "      <td>4</td>\n",
       "    </tr>\n",
       "    <tr>\n",
       "      <td>748234579244724</td>\n",
       "      <td>1</td>\n",
       "      <td>1</td>\n",
       "      <td>1</td>\n",
       "      <td>1</td>\n",
       "      <td>1</td>\n",
       "      <td>1</td>\n",
       "      <td>1</td>\n",
       "      <td>1</td>\n",
       "      <td>1</td>\n",
       "      <td>1</td>\n",
       "      <td>1</td>\n",
       "      <td>1</td>\n",
       "      <td>1</td>\n",
       "      <td>1</td>\n",
       "      <td>1</td>\n",
       "    </tr>\n",
       "  </tbody>\n",
       "</table>\n",
       "</div>"
      ],
      "text/plain": [
       "                     appt_id  gender  scheduled_date  appt_date  appt_day_no  \\\n",
       "age patient_id                                                                 \n",
       "100 393964189799           1       1               1          1            1   \n",
       "    9739429797896          2       2               2          2            2   \n",
       "    55783129426615         1       1               1          1            1   \n",
       "102 234283596548           1       1               1          1            1   \n",
       "    976294799775439        1       1               1          1            1   \n",
       "115 31963211613981         4       4               4          4            4   \n",
       "    748234579244724        1       1               1          1            1   \n",
       "\n",
       "                     appt_day  waiting_time  neighbourhood  scholarship  \\\n",
       "age patient_id                                                            \n",
       "100 393964189799            1             1              1            1   \n",
       "    9739429797896           2             2              2            2   \n",
       "    55783129426615          1             1              1            1   \n",
       "102 234283596548            1             1              1            1   \n",
       "    976294799775439         1             1              1            1   \n",
       "115 31963211613981          4             4              4            4   \n",
       "    748234579244724         1             1              1            1   \n",
       "\n",
       "                     hypertension  diabetes  alcoholism  handicap  \\\n",
       "age patient_id                                                      \n",
       "100 393964189799                1         1           1         1   \n",
       "    9739429797896               2         2           2         2   \n",
       "    55783129426615              1         1           1         1   \n",
       "102 234283596548                1         1           1         1   \n",
       "    976294799775439             1         1           1         1   \n",
       "115 31963211613981              4         4           4         4   \n",
       "    748234579244724             1         1           1         1   \n",
       "\n",
       "                     sms_received  arrived  \n",
       "age patient_id                              \n",
       "100 393964189799                1        1  \n",
       "    9739429797896               2        2  \n",
       "    55783129426615              1        1  \n",
       "102 234283596548                1        1  \n",
       "    976294799775439             1        1  \n",
       "115 31963211613981              4        4  \n",
       "    748234579244724             1        1  "
      ]
     },
     "execution_count": 353,
     "metadata": {},
     "output_type": "execute_result"
    }
   ],
   "source": [
    "#Grouping by patient ID to see if the patients had more than 1 appointment. \n",
    "df.groupby(['age','patient_id']).count().query('age >99')"
   ]
  },
  {
   "cell_type": "code",
   "execution_count": 354,
   "metadata": {},
   "outputs": [
    {
     "data": {
      "image/png": "[encoded data removed]",
      "text/plain": [
       "<Figure size 432x288 with 1 Axes>"
      ]
     },
     "metadata": {
      "needs_background": "light"
     },
     "output_type": "display_data"
    }
   ],
   "source": [
    "#Looking at histogram to see if these individuals are outliers\n",
    "df['age'].hist(grid = False);\n",
    "plt.title(\"Histogram of Ages\")\n",
    "plt.xlabel(\"Age\")\n",
    "plt.ylabel(\"Count\");"
   ]
  },
  {
   "cell_type": "markdown",
   "metadata": {},
   "source": [
    "There are 11 individuals over the age of 100.  These could be considered outliers but also could be just the tail end of the distribution.  I decided to keep in the dataset."
   ]
  },
  {
   "cell_type": "markdown",
   "metadata": {},
   "source": [
    "We can now move to investigating the waiting times."
   ]
  },
  {
   "cell_type": "code",
   "execution_count": 355,
   "metadata": {},
   "outputs": [
    {
     "data": {
      "text/html": [
       "<div>\n",
       "<style scoped>\n",
       "    .dataframe tbody tr th:only-of-type {\n",
       "        vertical-align: middle;\n",
       "    }\n",
       "\n",
       "    .dataframe tbody tr th {\n",
       "        vertical-align: top;\n",
       "    }\n",
       "\n",
       "    .dataframe thead th {\n",
       "        text-align: right;\n",
       "    }\n",
       "</style>\n",
       "<table border=\"1\" class=\"dataframe\">\n",
       "  <thead>\n",
       "    <tr style=\"text-align: right;\">\n",
       "      <th></th>\n",
       "      <th>patient_id</th>\n",
       "      <th>appt_id</th>\n",
       "      <th>gender</th>\n",
       "      <th>scheduled_date</th>\n",
       "      <th>appt_date</th>\n",
       "      <th>appt_day_no</th>\n",
       "      <th>appt_day</th>\n",
       "      <th>waiting_time</th>\n",
       "      <th>age</th>\n",
       "      <th>neighbourhood</th>\n",
       "      <th>scholarship</th>\n",
       "      <th>hypertension</th>\n",
       "      <th>diabetes</th>\n",
       "      <th>alcoholism</th>\n",
       "      <th>handicap</th>\n",
       "      <th>sms_received</th>\n",
       "      <th>arrived</th>\n",
       "    </tr>\n",
       "  </thead>\n",
       "  <tbody>\n",
       "    <tr>\n",
       "      <td>71533</td>\n",
       "      <td>998231581612122</td>\n",
       "      <td>5686628</td>\n",
       "      <td>F</td>\n",
       "      <td>2016-05-11</td>\n",
       "      <td>2016-05-05</td>\n",
       "      <td>4</td>\n",
       "      <td>Thur</td>\n",
       "      <td>-6</td>\n",
       "      <td>81</td>\n",
       "      <td>Santo Antônio</td>\n",
       "      <td>0</td>\n",
       "      <td>0</td>\n",
       "      <td>0</td>\n",
       "      <td>0</td>\n",
       "      <td>0</td>\n",
       "      <td>0</td>\n",
       "      <td>0</td>\n",
       "    </tr>\n",
       "    <tr>\n",
       "      <td>72362</td>\n",
       "      <td>3787481966821</td>\n",
       "      <td>5655637</td>\n",
       "      <td>M</td>\n",
       "      <td>2016-05-04</td>\n",
       "      <td>2016-05-03</td>\n",
       "      <td>2</td>\n",
       "      <td>Tues</td>\n",
       "      <td>-1</td>\n",
       "      <td>7</td>\n",
       "      <td>Tabuazeiro</td>\n",
       "      <td>0</td>\n",
       "      <td>0</td>\n",
       "      <td>0</td>\n",
       "      <td>0</td>\n",
       "      <td>0</td>\n",
       "      <td>0</td>\n",
       "      <td>0</td>\n",
       "    </tr>\n",
       "    <tr>\n",
       "      <td>64175</td>\n",
       "      <td>24252258389979</td>\n",
       "      <td>5664962</td>\n",
       "      <td>F</td>\n",
       "      <td>2016-05-05</td>\n",
       "      <td>2016-05-04</td>\n",
       "      <td>3</td>\n",
       "      <td>Wed</td>\n",
       "      <td>-1</td>\n",
       "      <td>22</td>\n",
       "      <td>Consolação</td>\n",
       "      <td>0</td>\n",
       "      <td>0</td>\n",
       "      <td>0</td>\n",
       "      <td>0</td>\n",
       "      <td>0</td>\n",
       "      <td>0</td>\n",
       "      <td>0</td>\n",
       "    </tr>\n",
       "    <tr>\n",
       "      <td>55226</td>\n",
       "      <td>7896293967868</td>\n",
       "      <td>5715660</td>\n",
       "      <td>F</td>\n",
       "      <td>2016-05-18</td>\n",
       "      <td>2016-05-17</td>\n",
       "      <td>2</td>\n",
       "      <td>Tues</td>\n",
       "      <td>-1</td>\n",
       "      <td>19</td>\n",
       "      <td>Santo Antônio</td>\n",
       "      <td>0</td>\n",
       "      <td>0</td>\n",
       "      <td>0</td>\n",
       "      <td>0</td>\n",
       "      <td>1</td>\n",
       "      <td>0</td>\n",
       "      <td>0</td>\n",
       "    </tr>\n",
       "    <tr>\n",
       "      <td>27033</td>\n",
       "      <td>7839272661752</td>\n",
       "      <td>5679978</td>\n",
       "      <td>M</td>\n",
       "      <td>2016-05-10</td>\n",
       "      <td>2016-05-09</td>\n",
       "      <td>1</td>\n",
       "      <td>Mon</td>\n",
       "      <td>-1</td>\n",
       "      <td>38</td>\n",
       "      <td>Resistência</td>\n",
       "      <td>0</td>\n",
       "      <td>0</td>\n",
       "      <td>0</td>\n",
       "      <td>0</td>\n",
       "      <td>1</td>\n",
       "      <td>0</td>\n",
       "      <td>0</td>\n",
       "    </tr>\n",
       "    <tr>\n",
       "      <td>57785</td>\n",
       "      <td>63578717945831</td>\n",
       "      <td>5657787</td>\n",
       "      <td>M</td>\n",
       "      <td>2016-05-04</td>\n",
       "      <td>2016-05-04</td>\n",
       "      <td>3</td>\n",
       "      <td>Wed</td>\n",
       "      <td>0</td>\n",
       "      <td>46</td>\n",
       "      <td>Nova Palestina</td>\n",
       "      <td>0</td>\n",
       "      <td>0</td>\n",
       "      <td>0</td>\n",
       "      <td>0</td>\n",
       "      <td>0</td>\n",
       "      <td>0</td>\n",
       "      <td>0</td>\n",
       "    </tr>\n",
       "    <tr>\n",
       "      <td>57786</td>\n",
       "      <td>7758559298974</td>\n",
       "      <td>5711827</td>\n",
       "      <td>F</td>\n",
       "      <td>2016-05-18</td>\n",
       "      <td>2016-05-18</td>\n",
       "      <td>3</td>\n",
       "      <td>Wed</td>\n",
       "      <td>0</td>\n",
       "      <td>48</td>\n",
       "      <td>Nova Palestina</td>\n",
       "      <td>0</td>\n",
       "      <td>0</td>\n",
       "      <td>0</td>\n",
       "      <td>0</td>\n",
       "      <td>0</td>\n",
       "      <td>0</td>\n",
       "      <td>1</td>\n",
       "    </tr>\n",
       "    <tr>\n",
       "      <td>57787</td>\n",
       "      <td>8867812918895</td>\n",
       "      <td>5735495</td>\n",
       "      <td>F</td>\n",
       "      <td>2016-05-25</td>\n",
       "      <td>2016-05-25</td>\n",
       "      <td>3</td>\n",
       "      <td>Wed</td>\n",
       "      <td>0</td>\n",
       "      <td>58</td>\n",
       "      <td>Nova Palestina</td>\n",
       "      <td>0</td>\n",
       "      <td>1</td>\n",
       "      <td>0</td>\n",
       "      <td>0</td>\n",
       "      <td>0</td>\n",
       "      <td>0</td>\n",
       "      <td>1</td>\n",
       "    </tr>\n",
       "    <tr>\n",
       "      <td>57788</td>\n",
       "      <td>399649431646135</td>\n",
       "      <td>5713274</td>\n",
       "      <td>M</td>\n",
       "      <td>2016-05-18</td>\n",
       "      <td>2016-05-18</td>\n",
       "      <td>3</td>\n",
       "      <td>Wed</td>\n",
       "      <td>0</td>\n",
       "      <td>56</td>\n",
       "      <td>Nova Palestina</td>\n",
       "      <td>0</td>\n",
       "      <td>0</td>\n",
       "      <td>1</td>\n",
       "      <td>0</td>\n",
       "      <td>0</td>\n",
       "      <td>0</td>\n",
       "      <td>1</td>\n",
       "    </tr>\n",
       "    <tr>\n",
       "      <td>57789</td>\n",
       "      <td>16371349179368</td>\n",
       "      <td>5735642</td>\n",
       "      <td>F</td>\n",
       "      <td>2016-05-25</td>\n",
       "      <td>2016-05-25</td>\n",
       "      <td>3</td>\n",
       "      <td>Wed</td>\n",
       "      <td>0</td>\n",
       "      <td>47</td>\n",
       "      <td>Nova Palestina</td>\n",
       "      <td>0</td>\n",
       "      <td>0</td>\n",
       "      <td>0</td>\n",
       "      <td>0</td>\n",
       "      <td>0</td>\n",
       "      <td>0</td>\n",
       "      <td>0</td>\n",
       "    </tr>\n",
       "  </tbody>\n",
       "</table>\n",
       "</div>"
      ],
      "text/plain": [
       "            patient_id  appt_id gender scheduled_date  appt_date  appt_day_no  \\\n",
       "71533  998231581612122  5686628      F     2016-05-11 2016-05-05            4   \n",
       "72362    3787481966821  5655637      M     2016-05-04 2016-05-03            2   \n",
       "64175   24252258389979  5664962      F     2016-05-05 2016-05-04            3   \n",
       "55226    7896293967868  5715660      F     2016-05-18 2016-05-17            2   \n",
       "27033    7839272661752  5679978      M     2016-05-10 2016-05-09            1   \n",
       "57785   63578717945831  5657787      M     2016-05-04 2016-05-04            3   \n",
       "57786    7758559298974  5711827      F     2016-05-18 2016-05-18            3   \n",
       "57787    8867812918895  5735495      F     2016-05-25 2016-05-25            3   \n",
       "57788  399649431646135  5713274      M     2016-05-18 2016-05-18            3   \n",
       "57789   16371349179368  5735642      F     2016-05-25 2016-05-25            3   \n",
       "\n",
       "      appt_day  waiting_time  age   neighbourhood  scholarship  hypertension  \\\n",
       "71533     Thur            -6   81   Santo Antônio            0             0   \n",
       "72362     Tues            -1    7      Tabuazeiro            0             0   \n",
       "64175      Wed            -1   22      Consolação            0             0   \n",
       "55226     Tues            -1   19   Santo Antônio            0             0   \n",
       "27033      Mon            -1   38     Resistência            0             0   \n",
       "57785      Wed             0   46  Nova Palestina            0             0   \n",
       "57786      Wed             0   48  Nova Palestina            0             0   \n",
       "57787      Wed             0   58  Nova Palestina            0             1   \n",
       "57788      Wed             0   56  Nova Palestina            0             0   \n",
       "57789      Wed             0   47  Nova Palestina            0             0   \n",
       "\n",
       "       diabetes  alcoholism  handicap  sms_received  arrived  \n",
       "71533         0           0         0             0        0  \n",
       "72362         0           0         0             0        0  \n",
       "64175         0           0         0             0        0  \n",
       "55226         0           0         1             0        0  \n",
       "27033         0           0         1             0        0  \n",
       "57785         0           0         0             0        0  \n",
       "57786         0           0         0             0        1  \n",
       "57787         0           0         0             0        1  \n",
       "57788         1           0         0             0        1  \n",
       "57789         0           0         0             0        0  "
      ]
     },
     "execution_count": 355,
     "metadata": {},
     "output_type": "execute_result"
    }
   ],
   "source": [
    "#Sorting waiting times from smallest to largest.\n",
    "df = df.sort_values(by = 'waiting_time')\n",
    "df.head(10)"
   ]
  },
  {
   "cell_type": "markdown",
   "metadata": {},
   "source": [
    "There are 5 rows with a negative value which doesn't make sense. As 5 rows in a database of 100k+ is minimal, these rows are deleted."
   ]
  },
  {
   "cell_type": "code",
   "execution_count": 356,
   "metadata": {},
   "outputs": [
    {
     "data": {
      "text/html": [
       "<div>\n",
       "<style scoped>\n",
       "    .dataframe tbody tr th:only-of-type {\n",
       "        vertical-align: middle;\n",
       "    }\n",
       "\n",
       "    .dataframe tbody tr th {\n",
       "        vertical-align: top;\n",
       "    }\n",
       "\n",
       "    .dataframe thead th {\n",
       "        text-align: right;\n",
       "    }\n",
       "</style>\n",
       "<table border=\"1\" class=\"dataframe\">\n",
       "  <thead>\n",
       "    <tr style=\"text-align: right;\">\n",
       "      <th></th>\n",
       "      <th>patient_id</th>\n",
       "      <th>appt_id</th>\n",
       "      <th>gender</th>\n",
       "      <th>scheduled_date</th>\n",
       "      <th>appt_date</th>\n",
       "      <th>appt_day_no</th>\n",
       "      <th>appt_day</th>\n",
       "      <th>waiting_time</th>\n",
       "      <th>age</th>\n",
       "      <th>neighbourhood</th>\n",
       "      <th>scholarship</th>\n",
       "      <th>hypertension</th>\n",
       "      <th>diabetes</th>\n",
       "      <th>alcoholism</th>\n",
       "      <th>handicap</th>\n",
       "      <th>sms_received</th>\n",
       "      <th>arrived</th>\n",
       "    </tr>\n",
       "  </thead>\n",
       "  <tbody>\n",
       "    <tr>\n",
       "      <td>57785</td>\n",
       "      <td>63578717945831</td>\n",
       "      <td>5657787</td>\n",
       "      <td>M</td>\n",
       "      <td>2016-05-04</td>\n",
       "      <td>2016-05-04</td>\n",
       "      <td>3</td>\n",
       "      <td>Wed</td>\n",
       "      <td>0</td>\n",
       "      <td>46</td>\n",
       "      <td>Nova Palestina</td>\n",
       "      <td>0</td>\n",
       "      <td>0</td>\n",
       "      <td>0</td>\n",
       "      <td>0</td>\n",
       "      <td>0</td>\n",
       "      <td>0</td>\n",
       "      <td>0</td>\n",
       "    </tr>\n",
       "    <tr>\n",
       "      <td>57786</td>\n",
       "      <td>7758559298974</td>\n",
       "      <td>5711827</td>\n",
       "      <td>F</td>\n",
       "      <td>2016-05-18</td>\n",
       "      <td>2016-05-18</td>\n",
       "      <td>3</td>\n",
       "      <td>Wed</td>\n",
       "      <td>0</td>\n",
       "      <td>48</td>\n",
       "      <td>Nova Palestina</td>\n",
       "      <td>0</td>\n",
       "      <td>0</td>\n",
       "      <td>0</td>\n",
       "      <td>0</td>\n",
       "      <td>0</td>\n",
       "      <td>0</td>\n",
       "      <td>1</td>\n",
       "    </tr>\n",
       "    <tr>\n",
       "      <td>57787</td>\n",
       "      <td>8867812918895</td>\n",
       "      <td>5735495</td>\n",
       "      <td>F</td>\n",
       "      <td>2016-05-25</td>\n",
       "      <td>2016-05-25</td>\n",
       "      <td>3</td>\n",
       "      <td>Wed</td>\n",
       "      <td>0</td>\n",
       "      <td>58</td>\n",
       "      <td>Nova Palestina</td>\n",
       "      <td>0</td>\n",
       "      <td>1</td>\n",
       "      <td>0</td>\n",
       "      <td>0</td>\n",
       "      <td>0</td>\n",
       "      <td>0</td>\n",
       "      <td>1</td>\n",
       "    </tr>\n",
       "    <tr>\n",
       "      <td>57788</td>\n",
       "      <td>399649431646135</td>\n",
       "      <td>5713274</td>\n",
       "      <td>M</td>\n",
       "      <td>2016-05-18</td>\n",
       "      <td>2016-05-18</td>\n",
       "      <td>3</td>\n",
       "      <td>Wed</td>\n",
       "      <td>0</td>\n",
       "      <td>56</td>\n",
       "      <td>Nova Palestina</td>\n",
       "      <td>0</td>\n",
       "      <td>0</td>\n",
       "      <td>1</td>\n",
       "      <td>0</td>\n",
       "      <td>0</td>\n",
       "      <td>0</td>\n",
       "      <td>1</td>\n",
       "    </tr>\n",
       "    <tr>\n",
       "      <td>57789</td>\n",
       "      <td>16371349179368</td>\n",
       "      <td>5735642</td>\n",
       "      <td>F</td>\n",
       "      <td>2016-05-25</td>\n",
       "      <td>2016-05-25</td>\n",
       "      <td>3</td>\n",
       "      <td>Wed</td>\n",
       "      <td>0</td>\n",
       "      <td>47</td>\n",
       "      <td>Nova Palestina</td>\n",
       "      <td>0</td>\n",
       "      <td>0</td>\n",
       "      <td>0</td>\n",
       "      <td>0</td>\n",
       "      <td>0</td>\n",
       "      <td>0</td>\n",
       "      <td>0</td>\n",
       "    </tr>\n",
       "    <tr>\n",
       "      <td>57791</td>\n",
       "      <td>548828668484667</td>\n",
       "      <td>5711493</td>\n",
       "      <td>F</td>\n",
       "      <td>2016-05-18</td>\n",
       "      <td>2016-05-18</td>\n",
       "      <td>3</td>\n",
       "      <td>Wed</td>\n",
       "      <td>0</td>\n",
       "      <td>39</td>\n",
       "      <td>Nova Palestina</td>\n",
       "      <td>0</td>\n",
       "      <td>0</td>\n",
       "      <td>0</td>\n",
       "      <td>0</td>\n",
       "      <td>0</td>\n",
       "      <td>0</td>\n",
       "      <td>1</td>\n",
       "    </tr>\n",
       "    <tr>\n",
       "      <td>57817</td>\n",
       "      <td>48872248573417</td>\n",
       "      <td>5653874</td>\n",
       "      <td>F</td>\n",
       "      <td>2016-05-03</td>\n",
       "      <td>2016-05-03</td>\n",
       "      <td>2</td>\n",
       "      <td>Tues</td>\n",
       "      <td>0</td>\n",
       "      <td>58</td>\n",
       "      <td>Nova Palestina</td>\n",
       "      <td>0</td>\n",
       "      <td>1</td>\n",
       "      <td>0</td>\n",
       "      <td>0</td>\n",
       "      <td>0</td>\n",
       "      <td>0</td>\n",
       "      <td>1</td>\n",
       "    </tr>\n",
       "    <tr>\n",
       "      <td>57822</td>\n",
       "      <td>373839949173</td>\n",
       "      <td>5653882</td>\n",
       "      <td>F</td>\n",
       "      <td>2016-05-03</td>\n",
       "      <td>2016-05-03</td>\n",
       "      <td>2</td>\n",
       "      <td>Tues</td>\n",
       "      <td>0</td>\n",
       "      <td>44</td>\n",
       "      <td>Nova Palestina</td>\n",
       "      <td>1</td>\n",
       "      <td>0</td>\n",
       "      <td>1</td>\n",
       "      <td>0</td>\n",
       "      <td>0</td>\n",
       "      <td>0</td>\n",
       "      <td>0</td>\n",
       "    </tr>\n",
       "    <tr>\n",
       "      <td>57832</td>\n",
       "      <td>753356144342564</td>\n",
       "      <td>5707617</td>\n",
       "      <td>M</td>\n",
       "      <td>2016-05-17</td>\n",
       "      <td>2016-05-17</td>\n",
       "      <td>2</td>\n",
       "      <td>Tues</td>\n",
       "      <td>0</td>\n",
       "      <td>78</td>\n",
       "      <td>Nova Palestina</td>\n",
       "      <td>0</td>\n",
       "      <td>1</td>\n",
       "      <td>0</td>\n",
       "      <td>0</td>\n",
       "      <td>0</td>\n",
       "      <td>0</td>\n",
       "      <td>1</td>\n",
       "    </tr>\n",
       "    <tr>\n",
       "      <td>57833</td>\n",
       "      <td>4459446354193</td>\n",
       "      <td>5731989</td>\n",
       "      <td>F</td>\n",
       "      <td>2016-05-24</td>\n",
       "      <td>2016-05-24</td>\n",
       "      <td>2</td>\n",
       "      <td>Tues</td>\n",
       "      <td>0</td>\n",
       "      <td>17</td>\n",
       "      <td>Redenção</td>\n",
       "      <td>0</td>\n",
       "      <td>0</td>\n",
       "      <td>0</td>\n",
       "      <td>0</td>\n",
       "      <td>0</td>\n",
       "      <td>0</td>\n",
       "      <td>1</td>\n",
       "    </tr>\n",
       "  </tbody>\n",
       "</table>\n",
       "</div>"
      ],
      "text/plain": [
       "            patient_id  appt_id gender scheduled_date  appt_date  appt_day_no  \\\n",
       "57785   63578717945831  5657787      M     2016-05-04 2016-05-04            3   \n",
       "57786    7758559298974  5711827      F     2016-05-18 2016-05-18            3   \n",
       "57787    8867812918895  5735495      F     2016-05-25 2016-05-25            3   \n",
       "57788  399649431646135  5713274      M     2016-05-18 2016-05-18            3   \n",
       "57789   16371349179368  5735642      F     2016-05-25 2016-05-25            3   \n",
       "57791  548828668484667  5711493      F     2016-05-18 2016-05-18            3   \n",
       "57817   48872248573417  5653874      F     2016-05-03 2016-05-03            2   \n",
       "57822     373839949173  5653882      F     2016-05-03 2016-05-03            2   \n",
       "57832  753356144342564  5707617      M     2016-05-17 2016-05-17            2   \n",
       "57833    4459446354193  5731989      F     2016-05-24 2016-05-24            2   \n",
       "\n",
       "      appt_day  waiting_time  age   neighbourhood  scholarship  hypertension  \\\n",
       "57785      Wed             0   46  Nova Palestina            0             0   \n",
       "57786      Wed             0   48  Nova Palestina            0             0   \n",
       "57787      Wed             0   58  Nova Palestina            0             1   \n",
       "57788      Wed             0   56  Nova Palestina            0             0   \n",
       "57789      Wed             0   47  Nova Palestina            0             0   \n",
       "57791      Wed             0   39  Nova Palestina            0             0   \n",
       "57817     Tues             0   58  Nova Palestina            0             1   \n",
       "57822     Tues             0   44  Nova Palestina            1             0   \n",
       "57832     Tues             0   78  Nova Palestina            0             1   \n",
       "57833     Tues             0   17        Redenção            0             0   \n",
       "\n",
       "       diabetes  alcoholism  handicap  sms_received  arrived  \n",
       "57785         0           0         0             0        0  \n",
       "57786         0           0         0             0        1  \n",
       "57787         0           0         0             0        1  \n",
       "57788         1           0         0             0        1  \n",
       "57789         0           0         0             0        0  \n",
       "57791         0           0         0             0        1  \n",
       "57817         0           0         0             0        1  \n",
       "57822         1           0         0             0        0  \n",
       "57832         0           0         0             0        1  \n",
       "57833         0           0         0             0        1  "
      ]
     },
     "execution_count": 356,
     "metadata": {},
     "output_type": "execute_result"
    }
   ],
   "source": [
    "#Deleting negative waiting times rows.\n",
    "df.drop(df.index[0:5], inplace=True)\n",
    "df.head(10)"
   ]
  },
  {
   "cell_type": "markdown",
   "metadata": {},
   "source": [
    "We can now move on to the investigating the neighbourhoods, looking to see if there are any names that seem to be misspelled and should be merged with another neighbourhood."
   ]
  },
  {
   "cell_type": "code",
   "execution_count": 357,
   "metadata": {},
   "outputs": [
    {
     "data": {
      "text/plain": [
       "neighbourhood\n",
       "Aeroporto                         8\n",
       "Andorinhas                     2262\n",
       "Antônio Honório                 271\n",
       "Ariovaldo Favalessa             282\n",
       "Barro Vermelho                  423\n",
       "Bela Vista                     1907\n",
       "Bento Ferreira                  858\n",
       "Boa Vista                       312\n",
       "Bonfim                         2773\n",
       "Caratoíra                      2565\n",
       "Centro                         3334\n",
       "Comdusa                         310\n",
       "Conquista                       849\n",
       "Consolação                     1375\n",
       "Cruzamento                     1398\n",
       "Da Penha                       2217\n",
       "De Lourdes                      305\n",
       "Do Cabral                       560\n",
       "Do Moscoso                      413\n",
       "Do Quadro                       849\n",
       "Enseada Do Suá                  235\n",
       "Estrelinha                      538\n",
       "Fonte Grande                    682\n",
       "Forte São João                 1889\n",
       "Fradinhos                       258\n",
       "Goiabeiras                      700\n",
       "Grande Vitória                 1071\n",
       "Gurigica                       2018\n",
       "Horto                           175\n",
       "Ilha Das Caieiras              1071\n",
       "Ilha De Santa Maria            1885\n",
       "Ilha Do Boi                      35\n",
       "Ilha Do Frade                    10\n",
       "Ilha Do Príncipe               2266\n",
       "Ilhas Oceânicas De Trindade       2\n",
       "Inhanguetá                     1057\n",
       "Itararé                        3514\n",
       "Jabour                         2509\n",
       "Jardim Camburi                 7717\n",
       "Jardim Da Penha                3877\n",
       "Name: gender, dtype: int64"
      ]
     },
     "execution_count": 357,
     "metadata": {},
     "output_type": "execute_result"
    }
   ],
   "source": [
    "#Reviewing nieghbourhood names.\n",
    "df_neighbourhood = df.groupby('neighbourhood').gender.count()\n",
    "df_neighbourhood.head(40)"
   ]
  },
  {
   "cell_type": "code",
   "execution_count": 358,
   "metadata": {},
   "outputs": [
    {
     "data": {
      "text/plain": [
       "neighbourhood\n",
       "Jesus De Nazareth    2853\n",
       "Joana D´Arc          1427\n",
       "Jucutuquara           694\n",
       "Maria Ortiz          5805\n",
       "Maruípe              1902\n",
       "Mata Da Praia         644\n",
       "Monte Belo            824\n",
       "Morada De Camburi      96\n",
       "Mário Cypreste        371\n",
       "Nazareth              135\n",
       "Nova Palestina       2264\n",
       "Parque Industrial       1\n",
       "Parque Moscoso        802\n",
       "Piedade               452\n",
       "Pontal De Camburi      69\n",
       "Praia Do Canto       1035\n",
       "Praia Do Suá         1288\n",
       "Redenção             1553\n",
       "República             835\n",
       "Resistência          4430\n",
       "Romão                2214\n",
       "Santa Cecília         448\n",
       "Santa Clara           506\n",
       "Santa Helena          178\n",
       "Santa Luíza           428\n",
       "Santa Lúcia           438\n",
       "Santa Martha         3131\n",
       "Santa Tereza         1332\n",
       "Santo André          2571\n",
       "Santo Antônio        2744\n",
       "Santos Dumont        1276\n",
       "Santos Reis           547\n",
       "Segurança Do Lar      145\n",
       "Solon Borges          469\n",
       "São Benedito         1439\n",
       "São Cristóvão        1836\n",
       "São José             1977\n",
       "São Pedro            2448\n",
       "Tabuazeiro           3131\n",
       "Universitário         152\n",
       "Vila Rubim            851\n",
       "Name: gender, dtype: int64"
      ]
     },
     "execution_count": 358,
     "metadata": {},
     "output_type": "execute_result"
    }
   ],
   "source": [
    "df_neighbourhood.tail(41)"
   ]
  },
  {
   "cell_type": "markdown",
   "metadata": {},
   "source": [
    "The neighbourhood data looks clean and accurate."
   ]
  },
  {
   "cell_type": "code",
   "execution_count": 359,
   "metadata": {},
   "outputs": [
    {
     "data": {
      "text/plain": [
       "(110521, 17)"
      ]
     },
     "execution_count": 359,
     "metadata": {},
     "output_type": "execute_result"
    }
   ],
   "source": [
    "#Noting shape of df.\n",
    "df.shape"
   ]
  },
  {
   "cell_type": "markdown",
   "metadata": {},
   "source": [
    "<a id='eda'></a>\n",
    "## Exploratory Data Analysis\n",
    "\n",
    "Now that we have a clean dataset we can delve into the analysis, tackling our two mains question.  We will start with the appointment details.\n",
    "\n",
    "### Appointment Details - How do the appointment details influence arrivals?\n",
    "Sub-questions\n",
    "* Does the appointment day of the week influence arrival?\n",
    "* Are the SMS reminders effective? And what if compared to the appointment day?\n",
    "* Does an increase in waiting time affect the arrival?"
   ]
  },
  {
   "cell_type": "markdown",
   "metadata": {},
   "source": [
    "We will split the dataset into two separate dataframes: those that arrived and those that did not."
   ]
  },
  {
   "cell_type": "code",
   "execution_count": 360,
   "metadata": {},
   "outputs": [],
   "source": [
    "#Making copies of the main dataframe\n",
    "df_yes = df.copy()\n",
    "df_no = df.copy()"
   ]
  },
  {
   "cell_type": "code",
   "execution_count": 361,
   "metadata": {},
   "outputs": [],
   "source": [
    "#Dataframe of individuals who arrived.\n",
    "df_yes = df_yes.query('arrived == 1')\n",
    "\n",
    "#Dataframe of individuals who missed appointments.\n",
    "df_no = df_no.query('arrived == 0')"
   ]
  },
  {
   "cell_type": "code",
   "execution_count": 362,
   "metadata": {},
   "outputs": [
    {
     "data": {
      "image/png": "[encoded data removed]",
      "text/plain": [
       "<Figure size 432x288 with 2 Axes>"
      ]
     },
     "metadata": {
      "needs_background": "light"
     },
     "output_type": "display_data"
    }
   ],
   "source": [
    "#Before delving into the questions of interest, we can take a quick look at a correlation matrix to see if any\n",
    "#variables have a strong correlation. \n",
    "df_vis = df.drop(columns = ['patient_id','appt_id'])\n",
    "corr_matrix = df_vis.corr()\n",
    "sns.heatmap(corr_matrix)\n",
    "plt.show()"
   ]
  },
  {
   "cell_type": "markdown",
   "metadata": {},
   "source": [
    "The variables of interest in this analysis are appointment day number, waiting time, sms reminders, scholarship, and neighbourhoods.  The only one of these that show any noticeable correlation are sms received compared to waiting time.  We will re-circle back to this when relevant."
   ]
  },
  {
   "cell_type": "markdown",
   "metadata": {},
   "source": [
    "#### 1.1 Does the appointment day of the week influence arrival?\n",
    "\n",
    "We start by grouping by the day of the week. We will then calculate proportion of no-shows by the day's total appointments."
   ]
  },
  {
   "cell_type": "code",
   "execution_count": 363,
   "metadata": {},
   "outputs": [
    {
     "data": {
      "text/plain": [
       "appt_day_no\n",
       "1    22713\n",
       "2    25638\n",
       "3    25866\n",
       "4    17246\n",
       "5    19019\n",
       "6       39\n",
       "Name: gender, dtype: int64"
      ]
     },
     "execution_count": 363,
     "metadata": {},
     "output_type": "execute_result"
    }
   ],
   "source": [
    "#Calculating the total appointments per day.\n",
    "#Once again we could use any of the columns to use a count. This dataset continues to use the gender column.\n",
    "#As we want the total appointments we do the calculation based off the the original df.\n",
    "total_per_day = df.groupby(['appt_day_no']).gender.count()\n",
    "total_per_day"
   ]
  },
  {
   "cell_type": "code",
   "execution_count": 364,
   "metadata": {},
   "outputs": [
    {
     "data": {
      "text/plain": [
       "appt_day_no\n",
       "1    4689\n",
       "2    5150\n",
       "3    5092\n",
       "4    3337\n",
       "5    4037\n",
       "6       9\n",
       "Name: gender, dtype: int64"
      ]
     },
     "execution_count": 364,
     "metadata": {},
     "output_type": "execute_result"
    }
   ],
   "source": [
    "#Finding the no-shows by day. We now use the df_no dataframe.\n",
    "no_per_day = df_no.groupby('appt_day_no').count().gender\n",
    "no_per_day"
   ]
  },
  {
   "cell_type": "code",
   "execution_count": 365,
   "metadata": {},
   "outputs": [
    {
     "data": {
      "text/plain": [
       "appt_day_no\n",
       "1    0.21\n",
       "2    0.20\n",
       "3    0.20\n",
       "4    0.19\n",
       "5    0.21\n",
       "6    0.23\n",
       "Name: gender, dtype: float64"
      ]
     },
     "execution_count": 365,
     "metadata": {},
     "output_type": "execute_result"
    }
   ],
   "source": [
    "#Calculation the proportion of missed appointments by day.\n",
    "day_prop = (no_per_day/total_per_day).round(2)\n",
    "day_prop"
   ]
  },
  {
   "cell_type": "code",
   "execution_count": 366,
   "metadata": {},
   "outputs": [
    {
     "data": {
      "text/plain": [
       "0.2"
      ]
     },
     "execution_count": 366,
     "metadata": {},
     "output_type": "execute_result"
    }
   ],
   "source": [
    "#Finding the mean of the no-shows appointments. Without subtracting from one would give us the mean of individuals \n",
    "#who arrived.  We want the mean of those that did not arrive.\n",
    "round(1 - df['arrived'].mean(),2)"
   ]
  },
  {
   "cell_type": "markdown",
   "metadata": {},
   "source": [
    "  We visualise the data using a bar chart to provide a different view."
   ]
  },
  {
   "cell_type": "code",
   "execution_count": 367,
   "metadata": {},
   "outputs": [
    {
     "data": {
      "image/png": "[encoded data removed]",
      "text/plain": [
       "<Figure size 432x288 with 1 Axes>"
      ]
     },
     "metadata": {
      "needs_background": "light"
     },
     "output_type": "display_data"
    }
   ],
   "source": [
    "#To make it easier for the user to understand we use the day names as the x tick marks.\n",
    "days = ['Mon', ' Tues', 'Wed', 'Thur', 'Fri', 'Sat']\n",
    "plt.bar(days, day_prop )\n",
    "plt.xlabel ('Day of Week')\n",
    "plt.ylabel ('% Missed Apointments')\n",
    "plt.title ('Percentage Missed Appointment Per Day');"
   ]
  },
  {
   "cell_type": "markdown",
   "metadata": {},
   "source": [
    "1.1 OBSERVATION\n",
    "\n",
    "There is a slight % difference when looking solely at day, with the biggest difference being on a Saturday. It appears that the weekdays of Tuesday, Wednesday and Thursday see the most arrivals."
   ]
  },
  {
   "cell_type": "markdown",
   "metadata": {},
   "source": [
    "#### 1.2 Do the SMS reminders result in an increase of attendance? And what if compared to the appointment day?"
   ]
  },
  {
   "cell_type": "markdown",
   "metadata": {},
   "source": [
    "First we look at SMS reminders effectiveness in increasing attendance.  We can explore this by looking at the total SMSs sent and the resulting attendance percentages. We will then visualize on a bar chart."
   ]
  },
  {
   "cell_type": "code",
   "execution_count": 368,
   "metadata": {},
   "outputs": [],
   "source": [
    "#We want to look at the total number of SMSs sent in order to calculate the proportion. We, therefore, use the\n",
    "#main df.\n",
    "total_sms = df.query('sms_received >0').count()"
   ]
  },
  {
   "cell_type": "code",
   "execution_count": 369,
   "metadata": {},
   "outputs": [],
   "source": [
    "#Calculating the SMS prop by day.\n",
    "no_sms_prop = ((df_no.query('sms_received >0').count())/total_sms).gender.round(2)\n",
    "yes_sms_prop = ((df_yes.query('sms_received >0').count())/total_sms).gender.round(2)"
   ]
  },
  {
   "cell_type": "code",
   "execution_count": 370,
   "metadata": {},
   "outputs": [
    {
     "data": {
      "image/png": "[encoded data removed]",
      "text/plain": [
       "<Figure size 432x288 with 1 Axes>"
      ]
     },
     "metadata": {
      "needs_background": "light"
     },
     "output_type": "display_data"
    }
   ],
   "source": [
    "#Visualising.\n",
    "plt.bar(['No', 'Yes'], [no_sms_prop, yes_sms_prop]);\n",
    "plt.title('% of SMS received and resulting attendance')\n",
    "plt.xlabel('Arrived for Appointment')\n",
    "plt.ylabel('% of total SMSs received');"
   ]
  },
  {
   "cell_type": "markdown",
   "metadata": {},
   "source": [
    "1.2 Observation 1: Sending SMS reminders significantly increased the likelihood a patient arrived for an appointment.  "
   ]
  },
  {
   "cell_type": "markdown",
   "metadata": {},
   "source": [
    "1.2.2 The accompanying questions was 'What if we compare SMS received to the appointment day?'\n",
    "\n",
    "The idea behind this question is to see if the SMSs being sent would translate to less no-shows on the following day.  This does, however, assume that SMSs are sent 1 days in advance.\n",
    "\n",
    "We can plot the missed appointments per day on the same graphs as the total SMSs by day."
   ]
  },
  {
   "cell_type": "code",
   "execution_count": 371,
   "metadata": {},
   "outputs": [],
   "source": [
    "tot_sms_day = df.query('sms_received == 1').groupby(['appt_day_no']).gender.count()"
   ]
  },
  {
   "cell_type": "code",
   "execution_count": 372,
   "metadata": {},
   "outputs": [
    {
     "data": {
      "image/png": "[encoded data removed]",
      "text/plain": [
       "<Figure size 432x288 with 2 Axes>"
      ]
     },
     "metadata": {
      "needs_background": "light"
     },
     "output_type": "display_data"
    }
   ],
   "source": [
    "#To make it easier for the user to understand we use the day names as the x tick marks.\n",
    "days = ['Mon', ' Tues', 'Wed', 'Thur', 'Fri', 'Sat', 'Sun']\n",
    "\n",
    "fig, ax1 = plt.subplots()\n",
    "ax2 = ax1.twinx()\n",
    "ax1.plot(tot_sms_day)\n",
    "ax2.bar(day_prop.index, day_prop,alpha =0.2)\n",
    "ax1.set_ylabel(\"Total SMSs Per Day\\n (Line Chart)\")\n",
    "ax1.set_xlabel(\"Days of the Week\")\n",
    "ax2.set_ylabel('% Missed Appointments\\n (Bar Chart)')\n",
    "ax1.axes.set_xticklabels(days);"
   ]
  },
  {
   "cell_type": "markdown",
   "metadata": {},
   "source": [
    "Recircling on the heat map we created earlier (and shown again below), there is a slight negative correlation between day of the week and sms received.  But we can also see that there was a strong correlation between waiting time and sms_received, which may mean SMS's are sent out rather only to people who have been waiting for a certain period of time rather than to all patients. "
   ]
  },
  {
   "cell_type": "code",
   "execution_count": 373,
   "metadata": {},
   "outputs": [
    {
     "data": {
      "image/png": "[encoded data removed]",
      "text/plain": [
       "<Figure size 432x288 with 2 Axes>"
      ]
     },
     "metadata": {
      "needs_background": "light"
     },
     "output_type": "display_data"
    }
   ],
   "source": [
    "corr_matrix = df_vis.corr()\n",
    "sns.heatmap(corr_matrix)\n",
    "plt.show()"
   ]
  },
  {
   "cell_type": "markdown",
   "metadata": {},
   "source": [
    "1.2.2 OBSERVATION: There doesn't seem to be a correlation between day of the week and if SMS's were sent."
   ]
  },
  {
   "cell_type": "markdown",
   "metadata": {},
   "source": [
    "#### 1.3 Do longer waiting times have an influence on arrivals? "
   ]
  },
  {
   "cell_type": "markdown",
   "metadata": {},
   "source": [
    "Once again we care about waiting time in comparison to the individuals who did not arrive for an appointment. We run the describe() method to get some general information. "
   ]
  },
  {
   "cell_type": "code",
   "execution_count": 374,
   "metadata": {},
   "outputs": [
    {
     "data": {
      "text/plain": [
       "count    22314.000000\n",
       "mean        15.835484\n",
       "std         16.605600\n",
       "min          0.000000\n",
       "25%          4.000000\n",
       "50%         11.000000\n",
       "75%         23.000000\n",
       "max        179.000000\n",
       "Name: waiting_time, dtype: float64"
      ]
     },
     "execution_count": 374,
     "metadata": {},
     "output_type": "execute_result"
    }
   ],
   "source": [
    "#Investigating the statistcs of the waiting_time column in the df_no.\n",
    "df_no['waiting_time'].describe()"
   ]
  },
  {
   "cell_type": "markdown",
   "metadata": {},
   "source": [
    "Looking at the details of the waiting time column we see that there is a range from 0 to 179 in terms of waiting time. But that the mean is 15 days and 75% of the data is 23 days or less. "
   ]
  },
  {
   "cell_type": "code",
   "execution_count": 375,
   "metadata": {},
   "outputs": [
    {
     "data": {
      "image/png": "[encoded data removed]",
      "text/plain": [
       "<Figure size 432x288 with 1 Axes>"
      ]
     },
     "metadata": {
      "needs_background": "light"
     },
     "output_type": "display_data"
    }
   ],
   "source": [
    "#Looking at the data through a histogram visualisation\n",
    "df_no['waiting_time'].hist(grid = False)\n",
    "plt.xlabel(\"Waiting Time\")\n",
    "plt.ylabel(\"Number of Appointments\")\n",
    "plt.title('Waiting Time Spread');"
   ]
  },
  {
   "cell_type": "markdown",
   "metadata": {},
   "source": [
    "The histogram shows that the data is heavily right skewed. We can investigate how many appointments are same-day appointments and at the 90% quartile."
   ]
  },
  {
   "cell_type": "code",
   "execution_count": 376,
   "metadata": {},
   "outputs": [
    {
     "data": {
      "text/plain": [
       "0.08"
      ]
     },
     "execution_count": 376,
     "metadata": {},
     "output_type": "execute_result"
    }
   ],
   "source": [
    "#Looking for how many appointments are same day.\n",
    "((df_no.query('waiting_time == 0').gender.count())/len(df_no)).round(2)"
   ]
  },
  {
   "cell_type": "code",
   "execution_count": 377,
   "metadata": {},
   "outputs": [
    {
     "data": {
      "text/plain": [
       "0.9"
      ]
     },
     "execution_count": 377,
     "metadata": {},
     "output_type": "execute_result"
    }
   ],
   "source": [
    "#Looking for 90% of data. The 36 number was found through some trial and error of replacing the value.\n",
    "((df_no.query('waiting_time<36').gender.count())/len(df_no)).round(2)\n"
   ]
  },
  {
   "cell_type": "markdown",
   "metadata": {},
   "source": [
    "Ninety percent of the data has a wait time of 36 days or less.  We, therefore, drop the other data for this analysis."
   ]
  },
  {
   "cell_type": "code",
   "execution_count": 378,
   "metadata": {},
   "outputs": [
    {
     "data": {
      "text/plain": [
       "(20166, 17)"
      ]
     },
     "execution_count": 378,
     "metadata": {},
     "output_type": "execute_result"
    }
   ],
   "source": [
    "#Trimming the dataframe of no-shows so that it has 90% of the data and trims the outliers.\n",
    "df_no_trim = df_no.copy()\n",
    "df_no_trim = df_no_trim.query('waiting_time<36')\n",
    "df_no_trim.shape"
   ]
  },
  {
   "cell_type": "code",
   "execution_count": 379,
   "metadata": {},
   "outputs": [
    {
     "data": {
      "image/png": "[encoded data removed]",
      "text/plain": [
       "<Figure size 432x288 with 1 Axes>"
      ]
     },
     "metadata": {
      "needs_background": "light"
     },
     "output_type": "display_data"
    }
   ],
   "source": [
    "df_no_trim['waiting_time'].hist(bins = 10, grid = False)\n",
    "plt.xlabel(\"Waiting Time\")\n",
    "plt.ylabel(\"Number of Appointments Missed\")\n",
    "plt.title('Waiting Time Spread');"
   ]
  },
  {
   "cell_type": "markdown",
   "metadata": {},
   "source": [
    "Observation 1.3 - According to the data, the chance of missing appointment _decreases_ the longer the individual has to wait and rather the short-term appointments (especially same day) are missed. "
   ]
  },
  {
   "cell_type": "markdown",
   "metadata": {},
   "source": [
    "### Scholarships - How do scholarships influence arrivals?\n",
    "Sub-questions\n",
    "* 2.1 Do the people receiving the stipend arrive to appointments more often than non-recipients?\n",
    "* 2.2 Are the neighbourhoods with a high percentage of no-shows inhabited by fewer scholarship recipients?"
   ]
  },
  {
   "cell_type": "markdown",
   "metadata": {},
   "source": [
    "#### 2.1 Do the people receiving the stipend arrive to appointments more often than non-recipients?\n",
    "\n",
    "To investigate this question we will calculate the % of individuals who missed appointments by recipients and non-recepients."
   ]
  },
  {
   "cell_type": "code",
   "execution_count": 380,
   "metadata": {},
   "outputs": [
    {
     "data": {
      "text/html": [
       "<div>\n",
       "<style scoped>\n",
       "    .dataframe tbody tr th:only-of-type {\n",
       "        vertical-align: middle;\n",
       "    }\n",
       "\n",
       "    .dataframe tbody tr th {\n",
       "        vertical-align: top;\n",
       "    }\n",
       "\n",
       "    .dataframe thead th {\n",
       "        text-align: right;\n",
       "    }\n",
       "</style>\n",
       "<table border=\"1\" class=\"dataframe\">\n",
       "  <thead>\n",
       "    <tr style=\"text-align: right;\">\n",
       "      <th></th>\n",
       "      <th>patient_id</th>\n",
       "      <th>appt_id</th>\n",
       "      <th>gender</th>\n",
       "      <th>scheduled_date</th>\n",
       "      <th>appt_date</th>\n",
       "      <th>appt_day_no</th>\n",
       "      <th>appt_day</th>\n",
       "      <th>waiting_time</th>\n",
       "      <th>age</th>\n",
       "      <th>neighbourhood</th>\n",
       "      <th>scholarship</th>\n",
       "      <th>hypertension</th>\n",
       "      <th>diabetes</th>\n",
       "      <th>alcoholism</th>\n",
       "      <th>handicap</th>\n",
       "      <th>sms_received</th>\n",
       "      <th>arrived</th>\n",
       "    </tr>\n",
       "  </thead>\n",
       "  <tbody>\n",
       "    <tr>\n",
       "      <td>57785</td>\n",
       "      <td>63578717945831</td>\n",
       "      <td>5657787</td>\n",
       "      <td>M</td>\n",
       "      <td>2016-05-04</td>\n",
       "      <td>2016-05-04</td>\n",
       "      <td>3</td>\n",
       "      <td>Wed</td>\n",
       "      <td>0</td>\n",
       "      <td>46</td>\n",
       "      <td>Nova Palestina</td>\n",
       "      <td>0</td>\n",
       "      <td>0</td>\n",
       "      <td>0</td>\n",
       "      <td>0</td>\n",
       "      <td>0</td>\n",
       "      <td>0</td>\n",
       "      <td>0</td>\n",
       "    </tr>\n",
       "    <tr>\n",
       "      <td>57786</td>\n",
       "      <td>7758559298974</td>\n",
       "      <td>5711827</td>\n",
       "      <td>F</td>\n",
       "      <td>2016-05-18</td>\n",
       "      <td>2016-05-18</td>\n",
       "      <td>3</td>\n",
       "      <td>Wed</td>\n",
       "      <td>0</td>\n",
       "      <td>48</td>\n",
       "      <td>Nova Palestina</td>\n",
       "      <td>0</td>\n",
       "      <td>0</td>\n",
       "      <td>0</td>\n",
       "      <td>0</td>\n",
       "      <td>0</td>\n",
       "      <td>0</td>\n",
       "      <td>1</td>\n",
       "    </tr>\n",
       "    <tr>\n",
       "      <td>57787</td>\n",
       "      <td>8867812918895</td>\n",
       "      <td>5735495</td>\n",
       "      <td>F</td>\n",
       "      <td>2016-05-25</td>\n",
       "      <td>2016-05-25</td>\n",
       "      <td>3</td>\n",
       "      <td>Wed</td>\n",
       "      <td>0</td>\n",
       "      <td>58</td>\n",
       "      <td>Nova Palestina</td>\n",
       "      <td>0</td>\n",
       "      <td>1</td>\n",
       "      <td>0</td>\n",
       "      <td>0</td>\n",
       "      <td>0</td>\n",
       "      <td>0</td>\n",
       "      <td>1</td>\n",
       "    </tr>\n",
       "    <tr>\n",
       "      <td>57788</td>\n",
       "      <td>399649431646135</td>\n",
       "      <td>5713274</td>\n",
       "      <td>M</td>\n",
       "      <td>2016-05-18</td>\n",
       "      <td>2016-05-18</td>\n",
       "      <td>3</td>\n",
       "      <td>Wed</td>\n",
       "      <td>0</td>\n",
       "      <td>56</td>\n",
       "      <td>Nova Palestina</td>\n",
       "      <td>0</td>\n",
       "      <td>0</td>\n",
       "      <td>1</td>\n",
       "      <td>0</td>\n",
       "      <td>0</td>\n",
       "      <td>0</td>\n",
       "      <td>1</td>\n",
       "    </tr>\n",
       "    <tr>\n",
       "      <td>57789</td>\n",
       "      <td>16371349179368</td>\n",
       "      <td>5735642</td>\n",
       "      <td>F</td>\n",
       "      <td>2016-05-25</td>\n",
       "      <td>2016-05-25</td>\n",
       "      <td>3</td>\n",
       "      <td>Wed</td>\n",
       "      <td>0</td>\n",
       "      <td>47</td>\n",
       "      <td>Nova Palestina</td>\n",
       "      <td>0</td>\n",
       "      <td>0</td>\n",
       "      <td>0</td>\n",
       "      <td>0</td>\n",
       "      <td>0</td>\n",
       "      <td>0</td>\n",
       "      <td>0</td>\n",
       "    </tr>\n",
       "  </tbody>\n",
       "</table>\n",
       "</div>"
      ],
      "text/plain": [
       "            patient_id  appt_id gender scheduled_date  appt_date  appt_day_no  \\\n",
       "57785   63578717945831  5657787      M     2016-05-04 2016-05-04            3   \n",
       "57786    7758559298974  5711827      F     2016-05-18 2016-05-18            3   \n",
       "57787    8867812918895  5735495      F     2016-05-25 2016-05-25            3   \n",
       "57788  399649431646135  5713274      M     2016-05-18 2016-05-18            3   \n",
       "57789   16371349179368  5735642      F     2016-05-25 2016-05-25            3   \n",
       "\n",
       "      appt_day  waiting_time  age   neighbourhood  scholarship  hypertension  \\\n",
       "57785      Wed             0   46  Nova Palestina            0             0   \n",
       "57786      Wed             0   48  Nova Palestina            0             0   \n",
       "57787      Wed             0   58  Nova Palestina            0             1   \n",
       "57788      Wed             0   56  Nova Palestina            0             0   \n",
       "57789      Wed             0   47  Nova Palestina            0             0   \n",
       "\n",
       "       diabetes  alcoholism  handicap  sms_received  arrived  \n",
       "57785         0           0         0             0        0  \n",
       "57786         0           0         0             0        1  \n",
       "57787         0           0         0             0        1  \n",
       "57788         1           0         0             0        1  \n",
       "57789         0           0         0             0        0  "
      ]
     },
     "execution_count": 380,
     "metadata": {},
     "output_type": "execute_result"
    }
   ],
   "source": [
    "#Making a copy of the dataframe for analysis of scholarships.\n",
    "df_scholarship = df.copy()\n",
    "df_scholarship.head()"
   ]
  },
  {
   "cell_type": "code",
   "execution_count": 381,
   "metadata": {},
   "outputs": [
    {
     "data": {
      "text/plain": [
       "0.1"
      ]
     },
     "execution_count": 381,
     "metadata": {},
     "output_type": "execute_result"
    }
   ],
   "source": [
    "#Calculating the % of individuals that receive the scholarship.\n",
    "sch_yes = df_scholarship.query('scholarship ==1').gender.count()\n",
    "sch_percentage = (sch_yes / len(df_scholarship)).round(2)\n",
    "sch_percentage\n"
   ]
  },
  {
   "cell_type": "markdown",
   "metadata": {},
   "source": [
    "The above calculations shows us that 10% of the dataset receive the scholarship."
   ]
  },
  {
   "cell_type": "code",
   "execution_count": 382,
   "metadata": {},
   "outputs": [
    {
     "data": {
      "text/plain": [
       "0.02"
      ]
     },
     "execution_count": 382,
     "metadata": {},
     "output_type": "execute_result"
    }
   ],
   "source": [
    "#Calculating the percentage of scholarship recipients who also missed an appointment.\n",
    "sch_noshow = df_scholarship.query('scholarship ==1 & arrived == 0').gender.count()\n",
    "sch_noshow_perc = (sch_noshow / len(df_scholarship)).round(2)\n",
    "sch_noshow_perc"
   ]
  },
  {
   "cell_type": "code",
   "execution_count": 383,
   "metadata": {},
   "outputs": [
    {
     "data": {
      "text/plain": [
       "0.18"
      ]
     },
     "execution_count": 383,
     "metadata": {},
     "output_type": "execute_result"
    }
   ],
   "source": [
    "#sch_no = df_scholarship.query('scholarship ==0').gender.count()\n",
    "nosch_noshow = df_scholarship.query('scholarship ==0 & arrived == 0').gender.count()\n",
    "nosch_noshow_perc = (nosch_noshow / len(df_scholarship)).round(2)\n",
    "nosch_noshow_perc"
   ]
  },
  {
   "cell_type": "markdown",
   "metadata": {},
   "source": [
    "2.1 Observation - We see that of the 20% missed appointments, the majority are from individuals who do not receive the stipend. "
   ]
  },
  {
   "cell_type": "markdown",
   "metadata": {},
   "source": [
    "#### 2.2 Are the neighbourhoods with a high percentage of no-shows inhabited by fewer scholarship recipients?\n",
    "\n",
    "We firstly need to find the neighbourhoods with the highest % of no-shows.  From there we can look at the % of sholarships recipients vs non-recipients in these neighbourhoods."
   ]
  },
  {
   "cell_type": "code",
   "execution_count": 384,
   "metadata": {},
   "outputs": [
    {
     "data": {
      "text/html": [
       "<div>\n",
       "<style scoped>\n",
       "    .dataframe tbody tr th:only-of-type {\n",
       "        vertical-align: middle;\n",
       "    }\n",
       "\n",
       "    .dataframe tbody tr th {\n",
       "        vertical-align: top;\n",
       "    }\n",
       "\n",
       "    .dataframe thead th {\n",
       "        text-align: right;\n",
       "    }\n",
       "</style>\n",
       "<table border=\"1\" class=\"dataframe\">\n",
       "  <thead>\n",
       "    <tr style=\"text-align: right;\">\n",
       "      <th></th>\n",
       "      <th>patient_id</th>\n",
       "      <th>appt_id</th>\n",
       "      <th>gender</th>\n",
       "      <th>scheduled_date</th>\n",
       "      <th>appt_date</th>\n",
       "      <th>appt_day_no</th>\n",
       "      <th>appt_day</th>\n",
       "      <th>waiting_time</th>\n",
       "      <th>age</th>\n",
       "      <th>neighbourhood</th>\n",
       "      <th>scholarship</th>\n",
       "      <th>hypertension</th>\n",
       "      <th>diabetes</th>\n",
       "      <th>alcoholism</th>\n",
       "      <th>handicap</th>\n",
       "      <th>sms_received</th>\n",
       "      <th>arrived</th>\n",
       "    </tr>\n",
       "  </thead>\n",
       "  <tbody>\n",
       "    <tr>\n",
       "      <td>57785</td>\n",
       "      <td>63578717945831</td>\n",
       "      <td>5657787</td>\n",
       "      <td>M</td>\n",
       "      <td>2016-05-04</td>\n",
       "      <td>2016-05-04</td>\n",
       "      <td>3</td>\n",
       "      <td>Wed</td>\n",
       "      <td>0</td>\n",
       "      <td>46</td>\n",
       "      <td>Nova Palestina</td>\n",
       "      <td>0</td>\n",
       "      <td>0</td>\n",
       "      <td>0</td>\n",
       "      <td>0</td>\n",
       "      <td>0</td>\n",
       "      <td>0</td>\n",
       "      <td>0</td>\n",
       "    </tr>\n",
       "  </tbody>\n",
       "</table>\n",
       "</div>"
      ],
      "text/plain": [
       "           patient_id  appt_id gender scheduled_date  appt_date  appt_day_no  \\\n",
       "57785  63578717945831  5657787      M     2016-05-04 2016-05-04            3   \n",
       "\n",
       "      appt_day  waiting_time  age   neighbourhood  scholarship  hypertension  \\\n",
       "57785      Wed             0   46  Nova Palestina            0             0   \n",
       "\n",
       "       diabetes  alcoholism  handicap  sms_received  arrived  \n",
       "57785         0           0         0             0        0  "
      ]
     },
     "execution_count": 384,
     "metadata": {},
     "output_type": "execute_result"
    }
   ],
   "source": [
    "#Making a copy of the df_no to use for any neighbourhood analysis.\n",
    "df_nbh = df_no.copy()\n",
    "df_nbh.head(1)"
   ]
  },
  {
   "cell_type": "code",
   "execution_count": 385,
   "metadata": {},
   "outputs": [
    {
     "data": {
      "text/plain": [
       "0.2"
      ]
     },
     "execution_count": 385,
     "metadata": {},
     "output_type": "execute_result"
    }
   ],
   "source": [
    "#Calculating the mean for reference.\n",
    "noshow_mean = round(1 - df['arrived'].mean(),2)\n",
    "noshow_mean"
   ]
  },
  {
   "cell_type": "code",
   "execution_count": 386,
   "metadata": {},
   "outputs": [
    {
     "data": {
      "text/plain": [
       "Jardim Camburi       1465\n",
       "Maria Ortiz          1219\n",
       "Itararé               923\n",
       "Resistência           905\n",
       "Centro                703\n",
       "Jesus De Nazareth     696\n",
       "Jardim Da Penha       631\n",
       "Caratoíra             591\n",
       "Tabuazeiro            572\n",
       "Bonfim                550\n",
       "Name: neighbourhood, dtype: int64"
      ]
     },
     "execution_count": 386,
     "metadata": {},
     "output_type": "execute_result"
    }
   ],
   "source": [
    "#Looking at that statistics of the no-shows by hospital.\n",
    "no_count = df_nbh['neighbourhood'].value_counts()\n",
    "no_count.nlargest(10)"
   ]
  },
  {
   "cell_type": "code",
   "execution_count": 387,
   "metadata": {},
   "outputs": [
    {
     "data": {
      "text/plain": [
       "Jardim Camburi                 7717\n",
       "Maria Ortiz                    5805\n",
       "Resistência                    4430\n",
       "Jardim Da Penha                3877\n",
       "Itararé                        3514\n",
       "                               ... \n",
       "Ilha Do Boi                      35\n",
       "Ilha Do Frade                    10\n",
       "Aeroporto                         8\n",
       "Ilhas Oceânicas De Trindade       2\n",
       "Parque Industrial                 1\n",
       "Name: neighbourhood, Length: 81, dtype: int64"
      ]
     },
     "execution_count": 387,
     "metadata": {},
     "output_type": "execute_result"
    }
   ],
   "source": [
    "#Total appointments per hospital will be used to find the proportion.\n",
    "total_appts = df['neighbourhood'].value_counts()\n",
    "total_appts"
   ]
  },
  {
   "cell_type": "code",
   "execution_count": 388,
   "metadata": {},
   "outputs": [
    {
     "data": {
      "text/plain": [
       "Ilhas Oceânicas De Trindade    1.00\n",
       "Santos Dumont                  0.29\n",
       "Santa Cecília                  0.27\n",
       "Santa Clara                    0.26\n",
       "Itararé                        0.26\n",
       "Name: neighbourhood, dtype: float64"
      ]
     },
     "execution_count": 388,
     "metadata": {},
     "output_type": "execute_result"
    }
   ],
   "source": [
    "#Finding the top 5 hopsitals in terms of most missed appointments.\n",
    "prop_top_five = (no_count / total_appts).nlargest(5).round(2)\n",
    "prop_top_five"
   ]
  },
  {
   "cell_type": "markdown",
   "metadata": {},
   "source": [
    "Looking at the neighbours we see that one neighbourhood, Ilhas Oceânicas De Trindade, has a 100% no-show rate.  We delve into the details to understand why this is the case."
   ]
  },
  {
   "cell_type": "code",
   "execution_count": 389,
   "metadata": {},
   "outputs": [
    {
     "data": {
      "text/html": [
       "<div>\n",
       "<style scoped>\n",
       "    .dataframe tbody tr th:only-of-type {\n",
       "        vertical-align: middle;\n",
       "    }\n",
       "\n",
       "    .dataframe tbody tr th {\n",
       "        vertical-align: top;\n",
       "    }\n",
       "\n",
       "    .dataframe thead th {\n",
       "        text-align: right;\n",
       "    }\n",
       "</style>\n",
       "<table border=\"1\" class=\"dataframe\">\n",
       "  <thead>\n",
       "    <tr style=\"text-align: right;\">\n",
       "      <th></th>\n",
       "      <th>patient_id</th>\n",
       "      <th>appt_id</th>\n",
       "      <th>gender</th>\n",
       "      <th>scheduled_date</th>\n",
       "      <th>appt_date</th>\n",
       "      <th>appt_day_no</th>\n",
       "      <th>appt_day</th>\n",
       "      <th>waiting_time</th>\n",
       "      <th>age</th>\n",
       "      <th>neighbourhood</th>\n",
       "      <th>scholarship</th>\n",
       "      <th>hypertension</th>\n",
       "      <th>diabetes</th>\n",
       "      <th>alcoholism</th>\n",
       "      <th>handicap</th>\n",
       "      <th>sms_received</th>\n",
       "      <th>arrived</th>\n",
       "    </tr>\n",
       "  </thead>\n",
       "  <tbody>\n",
       "    <tr>\n",
       "      <td>48765</td>\n",
       "      <td>7256429752481</td>\n",
       "      <td>5583948</td>\n",
       "      <td>F</td>\n",
       "      <td>2016-04-14</td>\n",
       "      <td>2016-05-13</td>\n",
       "      <td>5</td>\n",
       "      <td>Fri</td>\n",
       "      <td>29</td>\n",
       "      <td>58</td>\n",
       "      <td>Ilhas Oceânicas De Trindade</td>\n",
       "      <td>0</td>\n",
       "      <td>0</td>\n",
       "      <td>0</td>\n",
       "      <td>0</td>\n",
       "      <td>0</td>\n",
       "      <td>0</td>\n",
       "      <td>0</td>\n",
       "    </tr>\n",
       "    <tr>\n",
       "      <td>48754</td>\n",
       "      <td>534986855114</td>\n",
       "      <td>5583947</td>\n",
       "      <td>F</td>\n",
       "      <td>2016-04-14</td>\n",
       "      <td>2016-05-13</td>\n",
       "      <td>5</td>\n",
       "      <td>Fri</td>\n",
       "      <td>29</td>\n",
       "      <td>51</td>\n",
       "      <td>Ilhas Oceânicas De Trindade</td>\n",
       "      <td>0</td>\n",
       "      <td>0</td>\n",
       "      <td>0</td>\n",
       "      <td>0</td>\n",
       "      <td>0</td>\n",
       "      <td>0</td>\n",
       "      <td>0</td>\n",
       "    </tr>\n",
       "  </tbody>\n",
       "</table>\n",
       "</div>"
      ],
      "text/plain": [
       "          patient_id  appt_id gender scheduled_date  appt_date  appt_day_no  \\\n",
       "48765  7256429752481  5583948      F     2016-04-14 2016-05-13            5   \n",
       "48754   534986855114  5583947      F     2016-04-14 2016-05-13            5   \n",
       "\n",
       "      appt_day  waiting_time  age                neighbourhood  scholarship  \\\n",
       "48765      Fri            29   58  Ilhas Oceânicas De Trindade            0   \n",
       "48754      Fri            29   51  Ilhas Oceânicas De Trindade            0   \n",
       "\n",
       "       hypertension  diabetes  alcoholism  handicap  sms_received  arrived  \n",
       "48765             0         0           0         0             0        0  \n",
       "48754             0         0           0         0             0        0  "
      ]
     },
     "execution_count": 389,
     "metadata": {},
     "output_type": "execute_result"
    }
   ],
   "source": [
    "#Looking at this neighbourhood's apointments.\n",
    "df_no.query('neighbourhood in \"Ilhas Oceânicas De Trindade\"')"
   ]
  },
  {
   "cell_type": "markdown",
   "metadata": {},
   "source": [
    "We see that there were only 2 appointments, both of which were missed.  This is an outlier and needs to be removed."
   ]
  },
  {
   "cell_type": "code",
   "execution_count": 390,
   "metadata": {},
   "outputs": [],
   "source": [
    "#Deleting Ilhas Oceânicas De Trindade from the df_no dataframe.\n",
    "df_nbh.drop(df_nbh[df_nbh.neighbourhood == \"Ilhas Oceânicas De Trindade\"].index, inplace = True)"
   ]
  },
  {
   "cell_type": "code",
   "execution_count": 391,
   "metadata": {},
   "outputs": [],
   "source": [
    "#Deleting Ilhas Oceânicas De Trindade from the main dataframe as this is what the total appointments is based on.\n",
    "#However, we will use the main df but save it to another name to preserve the main df as is.\n",
    "df_trim = df.drop(df[df.neighbourhood == \"Ilhas Oceânicas De Trindade\"].index)"
   ]
  },
  {
   "cell_type": "code",
   "execution_count": 394,
   "metadata": {},
   "outputs": [
    {
     "data": {
      "text/plain": [
       "Santos Dumont        0.29\n",
       "Santa Cecília        0.27\n",
       "Santa Clara          0.26\n",
       "Itararé              0.26\n",
       "Jesus De Nazareth    0.24\n",
       "Name: neighbourhood, dtype: float64"
      ]
     },
     "execution_count": 394,
     "metadata": {},
     "output_type": "execute_result"
    }
   ],
   "source": [
    "#It is necessary to refresh our above calculations and update the total calculation with df_trim.\n",
    "#Total appointments\n",
    "total_appts = df_trim.neighbourhood.value_counts()\n",
    "\n",
    "#Proportion of top 5\n",
    "prop_top_five = (no_count / total_appts).nlargest(5).round(2)\n",
    "prop_top_five"
   ]
  },
  {
   "cell_type": "code",
   "execution_count": 395,
   "metadata": {},
   "outputs": [
    {
     "data": {
      "text/plain": [
       "Santos Dumont          0.29\n",
       "Santa Cecília          0.27\n",
       "Santa Clara            0.26\n",
       "Itararé                0.26\n",
       "Jesus De Nazareth      0.24\n",
       "Horto                  0.24\n",
       "Ilha Do Príncipe       0.23\n",
       "Caratoíra              0.23\n",
       "Andorinhas             0.23\n",
       "Praia Do Suá           0.23\n",
       "Gurigica               0.23\n",
       "Bento Ferreira         0.22\n",
       "Parque Moscoso         0.22\n",
       "Maruípe                0.22\n",
       "Do Moscoso             0.22\n",
       "Enseada Do Suá         0.22\n",
       "Ariovaldo Favalessa    0.22\n",
       "Ilha Das Caieiras      0.22\n",
       "Fonte Grande           0.22\n",
       "Cruzamento             0.22\n",
       "São José               0.22\n",
       "Barro Vermelho         0.22\n",
       "Nazareth               0.21\n",
       "Romão                  0.21\n",
       "Centro                 0.21\n",
       "Universitário          0.21\n",
       "São Pedro              0.21\n",
       "Maria Ortiz            0.21\n",
       "Santa Helena           0.21\n",
       "Santos Reis            0.20\n",
       "Name: neighbourhood, dtype: float64"
      ]
     },
     "execution_count": 395,
     "metadata": {},
     "output_type": "execute_result"
    }
   ],
   "source": [
    "#Looking at the proportion of neighbourhoods above the mean.\n",
    "prop_above_mean = (no_count / total_appts).nlargest(30).round(2)\n",
    "prop_above_mean"
   ]
  },
  {
   "cell_type": "markdown",
   "metadata": {},
   "source": [
    "2.2 OBSERVATION - There are 29 neighbourhoods that have a higher % of missed appointments in comparison to the mean.  "
   ]
  },
  {
   "cell_type": "markdown",
   "metadata": {},
   "source": [
    "The top five neighbourhoods in terms of missed appointments are Santos Dumont, Santa Cecília, Santa Clara, Itararé, and Jesus De Nazareth.  To continue to answer 2.2 in full, we now look at just these neighbourhoods to understand if the patients who visit these hospitals are scholarship recipients or not.  "
   ]
  },
  {
   "cell_type": "code",
   "execution_count": 396,
   "metadata": {},
   "outputs": [
    {
     "data": {
      "text/plain": [
       "['Santos Dumont',\n",
       " 'Santa Cecília',\n",
       " 'Santa Clara',\n",
       " 'Itararé',\n",
       " 'Jesus De Nazareth']"
      ]
     },
     "execution_count": 396,
     "metadata": {},
     "output_type": "execute_result"
    }
   ],
   "source": [
    "#Referencing the neighbourhoods in the top five neighbourhoods\n",
    "prop_top_five.index.tolist()"
   ]
  },
  {
   "cell_type": "code",
   "execution_count": 397,
   "metadata": {},
   "outputs": [
    {
     "data": {
      "text/html": [
       "<div>\n",
       "<style scoped>\n",
       "    .dataframe tbody tr th:only-of-type {\n",
       "        vertical-align: middle;\n",
       "    }\n",
       "\n",
       "    .dataframe tbody tr th {\n",
       "        vertical-align: top;\n",
       "    }\n",
       "\n",
       "    .dataframe thead th {\n",
       "        text-align: right;\n",
       "    }\n",
       "</style>\n",
       "<table border=\"1\" class=\"dataframe\">\n",
       "  <thead>\n",
       "    <tr style=\"text-align: right;\">\n",
       "      <th></th>\n",
       "      <th>patient_id</th>\n",
       "      <th>appt_id</th>\n",
       "      <th>gender</th>\n",
       "      <th>scheduled_date</th>\n",
       "      <th>appt_date</th>\n",
       "      <th>appt_day_no</th>\n",
       "      <th>appt_day</th>\n",
       "      <th>waiting_time</th>\n",
       "      <th>age</th>\n",
       "      <th>neighbourhood</th>\n",
       "      <th>scholarship</th>\n",
       "      <th>hypertension</th>\n",
       "      <th>diabetes</th>\n",
       "      <th>alcoholism</th>\n",
       "      <th>handicap</th>\n",
       "      <th>sms_received</th>\n",
       "      <th>arrived</th>\n",
       "    </tr>\n",
       "  </thead>\n",
       "  <tbody>\n",
       "    <tr>\n",
       "      <td>57446</td>\n",
       "      <td>384473663989589</td>\n",
       "      <td>5749224</td>\n",
       "      <td>M</td>\n",
       "      <td>2016-05-31</td>\n",
       "      <td>2016-05-31</td>\n",
       "      <td>2</td>\n",
       "      <td>Tues</td>\n",
       "      <td>0</td>\n",
       "      <td>8</td>\n",
       "      <td>Santa Cecília</td>\n",
       "      <td>0</td>\n",
       "      <td>0</td>\n",
       "      <td>0</td>\n",
       "      <td>0</td>\n",
       "      <td>0</td>\n",
       "      <td>0</td>\n",
       "      <td>1</td>\n",
       "    </tr>\n",
       "    <tr>\n",
       "      <td>57494</td>\n",
       "      <td>2719864626435</td>\n",
       "      <td>5705215</td>\n",
       "      <td>M</td>\n",
       "      <td>2016-05-17</td>\n",
       "      <td>2016-05-17</td>\n",
       "      <td>2</td>\n",
       "      <td>Tues</td>\n",
       "      <td>0</td>\n",
       "      <td>11</td>\n",
       "      <td>Jesus De Nazareth</td>\n",
       "      <td>0</td>\n",
       "      <td>0</td>\n",
       "      <td>0</td>\n",
       "      <td>0</td>\n",
       "      <td>0</td>\n",
       "      <td>0</td>\n",
       "      <td>1</td>\n",
       "    </tr>\n",
       "    <tr>\n",
       "      <td>58391</td>\n",
       "      <td>53469678337424</td>\n",
       "      <td>5696322</td>\n",
       "      <td>F</td>\n",
       "      <td>2016-05-13</td>\n",
       "      <td>2016-05-13</td>\n",
       "      <td>5</td>\n",
       "      <td>Fri</td>\n",
       "      <td>0</td>\n",
       "      <td>15</td>\n",
       "      <td>Itararé</td>\n",
       "      <td>1</td>\n",
       "      <td>0</td>\n",
       "      <td>0</td>\n",
       "      <td>0</td>\n",
       "      <td>0</td>\n",
       "      <td>0</td>\n",
       "      <td>1</td>\n",
       "    </tr>\n",
       "    <tr>\n",
       "      <td>58236</td>\n",
       "      <td>478627674919</td>\n",
       "      <td>5676804</td>\n",
       "      <td>M</td>\n",
       "      <td>2016-05-09</td>\n",
       "      <td>2016-05-09</td>\n",
       "      <td>1</td>\n",
       "      <td>Mon</td>\n",
       "      <td>0</td>\n",
       "      <td>49</td>\n",
       "      <td>Itararé</td>\n",
       "      <td>0</td>\n",
       "      <td>0</td>\n",
       "      <td>0</td>\n",
       "      <td>0</td>\n",
       "      <td>0</td>\n",
       "      <td>0</td>\n",
       "      <td>1</td>\n",
       "    </tr>\n",
       "    <tr>\n",
       "      <td>58239</td>\n",
       "      <td>84693826296687</td>\n",
       "      <td>5752856</td>\n",
       "      <td>F</td>\n",
       "      <td>2016-05-31</td>\n",
       "      <td>2016-05-31</td>\n",
       "      <td>2</td>\n",
       "      <td>Tues</td>\n",
       "      <td>0</td>\n",
       "      <td>16</td>\n",
       "      <td>Santos Dumont</td>\n",
       "      <td>1</td>\n",
       "      <td>0</td>\n",
       "      <td>0</td>\n",
       "      <td>0</td>\n",
       "      <td>0</td>\n",
       "      <td>0</td>\n",
       "      <td>1</td>\n",
       "    </tr>\n",
       "    <tr>\n",
       "      <td>...</td>\n",
       "      <td>...</td>\n",
       "      <td>...</td>\n",
       "      <td>...</td>\n",
       "      <td>...</td>\n",
       "      <td>...</td>\n",
       "      <td>...</td>\n",
       "      <td>...</td>\n",
       "      <td>...</td>\n",
       "      <td>...</td>\n",
       "      <td>...</td>\n",
       "      <td>...</td>\n",
       "      <td>...</td>\n",
       "      <td>...</td>\n",
       "      <td>...</td>\n",
       "      <td>...</td>\n",
       "      <td>...</td>\n",
       "      <td>...</td>\n",
       "    </tr>\n",
       "    <tr>\n",
       "      <td>27576</td>\n",
       "      <td>35853623179716</td>\n",
       "      <td>5140323</td>\n",
       "      <td>F</td>\n",
       "      <td>2015-12-08</td>\n",
       "      <td>2016-05-25</td>\n",
       "      <td>3</td>\n",
       "      <td>Wed</td>\n",
       "      <td>169</td>\n",
       "      <td>45</td>\n",
       "      <td>Santa Cecília</td>\n",
       "      <td>0</td>\n",
       "      <td>1</td>\n",
       "      <td>0</td>\n",
       "      <td>0</td>\n",
       "      <td>0</td>\n",
       "      <td>1</td>\n",
       "      <td>1</td>\n",
       "    </tr>\n",
       "    <tr>\n",
       "      <td>102819</td>\n",
       "      <td>43517839646243</td>\n",
       "      <td>5163433</td>\n",
       "      <td>F</td>\n",
       "      <td>2015-12-15</td>\n",
       "      <td>2016-06-08</td>\n",
       "      <td>3</td>\n",
       "      <td>Wed</td>\n",
       "      <td>176</td>\n",
       "      <td>58</td>\n",
       "      <td>Santa Cecília</td>\n",
       "      <td>0</td>\n",
       "      <td>1</td>\n",
       "      <td>0</td>\n",
       "      <td>0</td>\n",
       "      <td>0</td>\n",
       "      <td>1</td>\n",
       "      <td>1</td>\n",
       "    </tr>\n",
       "    <tr>\n",
       "      <td>102805</td>\n",
       "      <td>939919265925899</td>\n",
       "      <td>5140459</td>\n",
       "      <td>F</td>\n",
       "      <td>2015-12-08</td>\n",
       "      <td>2016-06-01</td>\n",
       "      <td>3</td>\n",
       "      <td>Wed</td>\n",
       "      <td>176</td>\n",
       "      <td>76</td>\n",
       "      <td>Santa Cecília</td>\n",
       "      <td>0</td>\n",
       "      <td>1</td>\n",
       "      <td>0</td>\n",
       "      <td>0</td>\n",
       "      <td>0</td>\n",
       "      <td>0</td>\n",
       "      <td>0</td>\n",
       "    </tr>\n",
       "    <tr>\n",
       "      <td>102803</td>\n",
       "      <td>3624378872786</td>\n",
       "      <td>5140456</td>\n",
       "      <td>M</td>\n",
       "      <td>2015-12-08</td>\n",
       "      <td>2016-06-01</td>\n",
       "      <td>3</td>\n",
       "      <td>Wed</td>\n",
       "      <td>176</td>\n",
       "      <td>83</td>\n",
       "      <td>Santa Cecília</td>\n",
       "      <td>0</td>\n",
       "      <td>1</td>\n",
       "      <td>0</td>\n",
       "      <td>0</td>\n",
       "      <td>0</td>\n",
       "      <td>1</td>\n",
       "      <td>0</td>\n",
       "    </tr>\n",
       "    <tr>\n",
       "      <td>102802</td>\n",
       "      <td>6587627186882</td>\n",
       "      <td>5163395</td>\n",
       "      <td>M</td>\n",
       "      <td>2015-12-15</td>\n",
       "      <td>2016-06-08</td>\n",
       "      <td>3</td>\n",
       "      <td>Wed</td>\n",
       "      <td>176</td>\n",
       "      <td>61</td>\n",
       "      <td>Santa Cecília</td>\n",
       "      <td>0</td>\n",
       "      <td>1</td>\n",
       "      <td>0</td>\n",
       "      <td>0</td>\n",
       "      <td>0</td>\n",
       "      <td>1</td>\n",
       "      <td>0</td>\n",
       "    </tr>\n",
       "  </tbody>\n",
       "</table>\n",
       "<p>8597 rows × 17 columns</p>\n",
       "</div>"
      ],
      "text/plain": [
       "             patient_id  appt_id gender scheduled_date  appt_date  \\\n",
       "57446   384473663989589  5749224      M     2016-05-31 2016-05-31   \n",
       "57494     2719864626435  5705215      M     2016-05-17 2016-05-17   \n",
       "58391    53469678337424  5696322      F     2016-05-13 2016-05-13   \n",
       "58236      478627674919  5676804      M     2016-05-09 2016-05-09   \n",
       "58239    84693826296687  5752856      F     2016-05-31 2016-05-31   \n",
       "...                 ...      ...    ...            ...        ...   \n",
       "27576    35853623179716  5140323      F     2015-12-08 2016-05-25   \n",
       "102819   43517839646243  5163433      F     2015-12-15 2016-06-08   \n",
       "102805  939919265925899  5140459      F     2015-12-08 2016-06-01   \n",
       "102803    3624378872786  5140456      M     2015-12-08 2016-06-01   \n",
       "102802    6587627186882  5163395      M     2015-12-15 2016-06-08   \n",
       "\n",
       "        appt_day_no appt_day  waiting_time  age      neighbourhood  \\\n",
       "57446             2     Tues             0    8      Santa Cecília   \n",
       "57494             2     Tues             0   11  Jesus De Nazareth   \n",
       "58391             5      Fri             0   15            Itararé   \n",
       "58236             1      Mon             0   49            Itararé   \n",
       "58239             2     Tues             0   16      Santos Dumont   \n",
       "...             ...      ...           ...  ...                ...   \n",
       "27576             3      Wed           169   45      Santa Cecília   \n",
       "102819            3      Wed           176   58      Santa Cecília   \n",
       "102805            3      Wed           176   76      Santa Cecília   \n",
       "102803            3      Wed           176   83      Santa Cecília   \n",
       "102802            3      Wed           176   61      Santa Cecília   \n",
       "\n",
       "        scholarship  hypertension  diabetes  alcoholism  handicap  \\\n",
       "57446             0             0         0           0         0   \n",
       "57494             0             0         0           0         0   \n",
       "58391             1             0         0           0         0   \n",
       "58236             0             0         0           0         0   \n",
       "58239             1             0         0           0         0   \n",
       "...             ...           ...       ...         ...       ...   \n",
       "27576             0             1         0           0         0   \n",
       "102819            0             1         0           0         0   \n",
       "102805            0             1         0           0         0   \n",
       "102803            0             1         0           0         0   \n",
       "102802            0             1         0           0         0   \n",
       "\n",
       "        sms_received  arrived  \n",
       "57446              0        1  \n",
       "57494              0        1  \n",
       "58391              0        1  \n",
       "58236              0        1  \n",
       "58239              0        1  \n",
       "...              ...      ...  \n",
       "27576              1        1  \n",
       "102819             1        1  \n",
       "102805             0        0  \n",
       "102803             1        0  \n",
       "102802             1        0  \n",
       "\n",
       "[8597 rows x 17 columns]"
      ]
     },
     "execution_count": 397,
     "metadata": {},
     "output_type": "execute_result"
    }
   ],
   "source": [
    "#Making a copy of the df for scholarship analysis that includes only the five neighbourhoods\n",
    "df_sch = df.query('neighbourhood in (\"Santos Dumont\",\"Santa Cecília\",\"Santa Clara\",\"Itararé\", \"Jesus De Nazareth\")')\n",
    "df_sch"
   ]
  },
  {
   "cell_type": "code",
   "execution_count": 398,
   "metadata": {},
   "outputs": [],
   "source": [
    "#Calculating the number of patients from these five neighbourhoods.\n",
    "total_pat = df_sch.gender.count()"
   ]
  },
  {
   "cell_type": "code",
   "execution_count": 399,
   "metadata": {},
   "outputs": [
    {
     "data": {
      "text/plain": [
       "871"
      ]
     },
     "execution_count": 399,
     "metadata": {},
     "output_type": "execute_result"
    }
   ],
   "source": [
    "#Calculating number of recipients\n",
    "yes_sch = df_sch.query('scholarship == 1').gender.count()\n",
    "yes_sch"
   ]
  },
  {
   "cell_type": "code",
   "execution_count": 400,
   "metadata": {},
   "outputs": [
    {
     "data": {
      "text/plain": [
       "0.1013144120041875"
      ]
     },
     "execution_count": 400,
     "metadata": {},
     "output_type": "execute_result"
    }
   ],
   "source": [
    "#Calculating % of recipients\n",
    "nbh_perc = (yes_sch/total_pat)\n",
    "nbh_perc"
   ]
  },
  {
   "cell_type": "code",
   "execution_count": 401,
   "metadata": {},
   "outputs": [
    {
     "data": {
      "text/plain": [
       "neighbourhood\n",
       "Itararé              0.088503\n",
       "Jesus De Nazareth    0.094637\n",
       "Santa Cecília        0.055804\n",
       "Santa Clara          0.059289\n",
       "Santos Dumont        0.184169\n",
       "Name: scholarship, dtype: float64"
      ]
     },
     "execution_count": 401,
     "metadata": {},
     "output_type": "execute_result"
    }
   ],
   "source": [
    "#Percentage of scholarship across the top 5 neighbourhoods\n",
    "df_sch.groupby('neighbourhood').mean().scholarship\n"
   ]
  },
  {
   "cell_type": "markdown",
   "metadata": {},
   "source": [
    "2.2 OBSERVATION - The data shows that these neighbourhoods as a whole have a scholarship percentage the same as the mean - 10%.  If we look at the individual neighbourhoods two are less, but the neighbourhood with the highest no-show rates actually has almost double the mean in terms of scholarship recipients."
   ]
  },
  {
   "cell_type": "markdown",
   "metadata": {},
   "source": [
    "<a id='conclusions'></a>\n",
    "## Conclusions\n",
    "Recircling on our original two questions and the purpose of our analysis:\n",
    "\n",
    "1) Appointment Details - How do the appointment details influence arrivals?\n",
    "\n",
    "Arrivals were indeed influenced by certain variables related to appointments, but not all the variables we investigated.  There was an influence based off the day of the week with Saturday showing the most missed appointments and mid-week being the lowest. SMS reminders positively affected individuals showing up to their appointment but a visual trend was inconclusive when comparing to the day of the week. That being said, SMSs could be explored further as in this dataset only 32% of the patients received an SMS. There is a likelihood that these individuals would have shown or no-shown without the SMS reminder. It could be useful to explore further in a dataset where all patients received the SMS reminder.\n",
    "\n",
    "An increase in waiting time did not result in more missed appointments - in fact, the day with the most no-shows was same-day.  With this dataset we cannot further explore an understanding regarding these same day no-shows but with additinal data one could potentially explore number of walkins to scheduled same-day appointments and if long wait times resulted in people leaving.\n",
    "\n",
    "2) Scholarships - How do scholarships influence arrivals?\n",
    "\n",
    "Within this dataset 10% of patients received the scholarship. When looking at missed appointments the 20% of no-shows were made up of only 2% of scholarship recipients, leading one to believe that the scholarship increases the likelihood of arrival.  This could be because the money helps with travel funds and/or also because part of the criteria of the scholarship is to vacinnate children and have them attend school (healthy children will be more likely to attend school).\n",
    "\n",
    "Drilling down into the neighbourhoods we see the 5 neighbourhoods having the highest percentage of no-shows were:\n",
    "> * Santos Dumont\n",
    "> * Santa Cecilia\n",
    "> * Santa Clara\n",
    "> * Itarare\n",
    "> * Jesus De Nazareth\n",
    "\n",
    "Yet in the neighbourhood specific data the percentage of scholarship recipients was similar to the mean.  Two of the 5 neighbourhoods had a lower percentage but when looking at the 5 neighbourhoods together it was the same as the the total dataset.  It also became apparent that the neighbourhood with the highest no-show rate (Santos Dumont with 29% no-shows) also had patients with 18% as scholarship recipients, far above the mean of 10%. This leads us to believe that the no-shows in these neighbourhoods are not directly tied to lack of scholarship but rather some other variable. \n",
    "\n",
    "The analysis in this notebook was insightful. However, in order to pinpoint the key drivers of no-show appointments additional analysis is recommended."
   ]
  }
 ],
 "metadata": {
  "kernelspec": {
   "display_name": "Python 3",
   "language": "python",
   "name": "python3"
  },
  "language_info": {
   "codemirror_mode": {
    "name": "ipython",
    "version": 3
   },
   "file_extension": ".py",
   "mimetype": "text/x-python",
   "name": "python",
   "nbconvert_exporter": "python",
   "pygments_lexer": "ipython3",
   "version": "3.7.4"
  }
 },
 "nbformat": 4,
 "nbformat_minor": 2
}
